{
 "cells": [
  {
   "cell_type": "code",
   "execution_count": 1,
   "metadata": {},
   "outputs": [],
   "source": [
    "#libration_frequency.ipynb\n",
    "#by Joe Hahn, jmh.datasciences@gmail.com, 17 March 2018.\n",
    "#plot phase-space diagrams for ringlets librating about their fixed point"
   ]
  },
  {
   "cell_type": "code",
   "execution_count": 2,
   "metadata": {},
   "outputs": [],
   "source": [
    "#prep plots\n",
    "%matplotlib inline\n",
    "import seaborn as sns\n",
    "import matplotlib.pyplot as plt\n",
    "color_seq = plt.rcParams['axes.prop_cycle'].by_key()['color']\n",
    "from matplotlib import rcParams\n",
    "import numpy as np\n",
    "import pandas as pd"
   ]
  },
  {
   "cell_type": "code",
   "execution_count": 3,
   "metadata": {},
   "outputs": [
    {
     "name": "stdout",
     "output_type": "stream",
     "text": [
      "reading output in folder =  narrow_ring/ring_mass_1.5e-11/output\n",
      "r.shape =  (1001, 2, 241)\n",
      "total_ring_mass =  1.5e-11\n",
      "H_avg =  1.7837343504387717\n",
      "q_avg =  0.9574253631764889\n",
      "BGT libration frequency =  3.4080536582721844e-05\n",
      "sim libration frequency =  9.944945467365374e-05\n",
      "reading output in folder =  narrow_ring/ring_mass_2.4e-11/output\n",
      "r.shape =  (1001, 2, 241)\n",
      "total_ring_mass =  2.4e-11\n",
      "H_avg =  1.2120941058982566\n",
      "q_avg =  0.9194904631663363\n",
      "BGT libration frequency =  3.705360972575483e-05\n",
      "sim libration frequency =  8.014664029062854e-05\n",
      "reading output in folder =  narrow_ring/ring_mass_3.7e-11/output\n",
      "r.shape =  (1001, 2, 241)\n",
      "total_ring_mass =  3.7e-11\n",
      "H_avg =  0.9060856112902128\n",
      "q_avg =  0.864722672973829\n",
      "BGT libration frequency =  4.2699958329935345e-05\n",
      "sim libration frequency =  7.168920637389395e-05\n",
      "reading output in folder =  narrow_ring/ring_mass_6.5e-11/output\n",
      "r.shape =  (1001, 2, 241)\n",
      "total_ring_mass =  6.5e-11\n",
      "H_avg =  0.6706974570847002\n",
      "q_avg =  0.7556613095997272\n",
      "BGT libration frequency =  5.553365736669633e-05\n",
      "sim libration frequency =  7.3142434832877e-05\n",
      "reading output in folder =  narrow_ring/ring_mass_1.3e-10/output\n",
      "r.shape =  (1001, 2, 241)\n",
      "total_ring_mass =  1.3e-10\n",
      "H_avg =  0.5473573909696593\n",
      "q_avg =  0.5818842773014364\n",
      "BGT libration frequency =  9.054605609285793e-05\n",
      "sim libration frequency =  0.00010002117411020428\n",
      "reading output in folder =  narrow_ring/ring_mass_2.5e-10/output\n",
      "r.shape =  (1001, 2, 241)\n",
      "total_ring_mass =  2.5e-10\n",
      "H_avg =  0.5124885860615236\n",
      "q_avg =  0.42335817502140094\n",
      "BGT libration frequency =  0.00016301610524164617\n",
      "sim libration frequency =  0.0001678517155893124\n",
      "reading output in folder =  narrow_ring/ring_mass_5.0e-10/output\n",
      "r.shape =  (1001, 2, 241)\n",
      "total_ring_mass =  5e-10\n",
      "H_avg =  0.5024053101461137\n",
      "q_avg =  0.2825506656847127\n",
      "BGT libration frequency =  0.0003194450460838972\n",
      "sim libration frequency =  0.0003228855322743984\n",
      "reading output in folder =  narrow_ring/ring_mass_1.0e-9/output\n",
      "r.shape =  (1001, 2, 241)\n",
      "total_ring_mass =  1e-09\n",
      "H_avg =  0.5003283762705483\n",
      "q_avg =  0.17092531992800242\n",
      "BGT libration frequency =  0.000635455632036596\n",
      "sim libration frequency =  0.0006389242181799549\n",
      "reading output in folder =  narrow_ring/ring_mass_2.0e-9/output\n",
      "r.shape =  (1001, 2, 241)\n",
      "total_ring_mass =  2e-09\n",
      "H_avg =  0.5000075846938434\n",
      "q_avg =  0.06386963357048647\n",
      "BGT libration frequency =  0.0012668907475445327\n",
      "sim libration frequency =  0.0012762425187528518\n"
     ]
    }
   ],
   "source": [
    "#restore output\n",
    "parent_folders = [\n",
    "    'narrow_ring/ring_mass_1.5e-11/', 'narrow_ring/ring_mass_2.4e-11/', 'narrow_ring/ring_mass_3.7e-11/', \n",
    "    'narrow_ring/ring_mass_6.5e-11/', 'narrow_ring/ring_mass_1.3e-10/', 'narrow_ring/ring_mass_2.5e-10/', \n",
    "    'narrow_ring/ring_mass_5.0e-10/', 'narrow_ring/ring_mass_1.0e-9/', 'narrow_ring/ring_mass_2.0e-9/',\n",
    "]\n",
    "parent_folders = [\n",
    "    'narrow_ring/ring_mass_1.5e-11/', 'narrow_ring/ring_mass_2.4e-11/', 'narrow_ring/ring_mass_3.7e-11/', \n",
    "    'narrow_ring/ring_mass_6.5e-11/', 'narrow_ring/ring_mass_1.3e-10/', 'narrow_ring/ring_mass_2.5e-10/', \n",
    "    'narrow_ring/ring_mass_5.0e-10/', 'narrow_ring/ring_mass_1.0e-9/', 'narrow_ring/ring_mass_2.0e-9/',\n",
    "]\n",
    "total_ring_masses = []\n",
    "da_list = []\n",
    "de_list = []\n",
    "dwt_list = []\n",
    "a_avg_list = []\n",
    "e_avg_list = []\n",
    "omega_bgt_list = []\n",
    "omega_list = []\n",
    "from helper_fns import *\n",
    "from libration import *\n",
    "for parent_folder in parent_folders:\n",
    "    #read simulation output\n",
    "    input_file = parent_folder + \"inputs.py\"\n",
    "    execfile(input_file)\n",
    "    the_output_folder = parent_folder + output_folder\n",
    "    print 'reading output in folder = ', the_output_folder\n",
    "    r, t, vr, vt, times, lambda0 = restore_output(the_output_folder)\n",
    "    a, e, wt, M = coords2elem(J2, Rp, r, t, vr, vt)\n",
    "    print 'r.shape = ', r.shape\n",
    "    print 'total_ring_mass = ', total_ring_mass\n",
    "    total_ring_masses += [total_ring_mass]\n",
    "    #calculate differences da, de, dwt between outer & inner streamline's periapse\n",
    "    a_inner, a_outer, a_mean, da, e_inner, e_outer, e_mean, de, wt_inner, wt_outer, dwt = \\\n",
    "        orbit_deltas(times, r, t, vr, vt, a, e, wt, J2, Rp)\n",
    "    da_list += [da]\n",
    "    de_list += [de]\n",
    "    dwt_list += [dwt]\n",
    "    a_avg_list += [a_mean]\n",
    "    e_avg_list += [e_mean]\n",
    "    #BGT libration period\n",
    "    GM = 1.0\n",
    "    M_central = 1.0\n",
    "    a3 = (a_mean**3).mean()\n",
    "    a_over_da = (a_mean/da).mean()\n",
    "    n = np.sqrt(GM/a3)\n",
    "    H, q, e_prime, wt_prime = calculate_Hq(a_mean, e_mean, da, de, dwt)\n",
    "    H_avg = np.median(H)\n",
    "    omega_bgt = (total_ring_mass/M_central)*(a_over_da**2)*n*H_avg/np.pi\n",
    "    omega_bgt = (total_ring_mass/M_central)*(a_over_da**2)*n*H_avg/np.pi\n",
    "    omega_bgt_list += [omega_bgt]\n",
    "    print 'H_avg = ', H_avg\n",
    "    print 'q_avg = ', np.sqrt(q.mean())\n",
    "    print 'BGT libration frequency = ', omega_bgt\n",
    "    #compute libration phase & frequency\n",
    "    de_eq = np.median(de)\n",
    "    dwt_eq = np.median(dwt)\n",
    "    Ix = (de - de_eq)*a_mean/da\n",
    "    Iy = e_mean*a_mean*(dwt - dwt_eq)/da\n",
    "    phase = np.arctan2(Iy, Ix)\n",
    "    phase_unwrapped = unwrap_angle(phase)\n",
    "    coeff = np.polyfit(times, phase_unwrapped, 1)\n",
    "    omega = coeff[0]\n",
    "    omega_list += [omega]\n",
    "    print 'sim libration frequency = ', omega"
   ]
  },
  {
   "cell_type": "code",
   "execution_count": 4,
   "metadata": {},
   "outputs": [],
   "source": [
    "#libration period\n",
    "omega = np.array(omega_list)\n",
    "T_lib = 2.0*np.pi/omega\n",
    "omega_bgt = np.array(omega_bgt_list)\n",
    "T_lib_bgt = 2.0*np.pi/omega_bgt\n",
    "ring_masses = np.array(total_ring_masses)"
   ]
  },
  {
   "cell_type": "code",
   "execution_count": 5,
   "metadata": {},
   "outputs": [],
   "source": [
    "#prep plots\n",
    "%matplotlib inline\n",
    "import seaborn as sns\n",
    "import matplotlib.pyplot as plt\n",
    "from matplotlib import rcParams\n",
    "sns.set(font_scale=1.5, font='DejaVu Sans')\n",
    "import numpy as np"
   ]
  },
  {
   "cell_type": "code",
   "execution_count": 6,
   "metadata": {},
   "outputs": [
    {
     "data": {
      "image/png": "[encoded data removed]",
      "text/plain": [
       "<Figure size 720x432 with 1 Axes>"
      ]
     },
     "metadata": {},
     "output_type": "display_data"
    }
   ],
   "source": [
    "#plot T_lib vs total_ring_masses\n",
    "x = ring_masses\n",
    "y = T_lib_bgt/(2*np.pi)\n",
    "f, ax = plt.subplots(figsize=(10, 6))\n",
    "p = ax.plot(x, y, linestyle='-', linewidth=5, label='theory', alpha=0.7)\n",
    "y = T_lib/(2*np.pi)\n",
    "p = ax.plot(x, y, marker='o', markersize=10, linestyle='-', linewidth=2, label='simulation')\n",
    "p = ax.set_xlabel(r'ringlet mass $m_r$')\n",
    "p = ax.set_ylabel(r'libration period $T_{lib}$    (orbits)')\n",
    "p = ax.set_xlim(8.0e-12, 1.1e-7)\n",
    "p = ax.set_ylim(4.0e2, 5.0e4)\n",
    "p = ax.set_xscale('log')\n",
    "p = ax.set_yscale('log')\n",
    "p = plt.legend()\n",
    "plt.savefig('figs/libration.pdf', bbox_inches='tight')"
   ]
  },
  {
   "cell_type": "code",
   "execution_count": null,
   "metadata": {},
   "outputs": [],
   "source": []
  }
 ],
 "metadata": {
  "kernelspec": {
   "display_name": "Python 2",
   "language": "python",
   "name": "python2"
  },
  "language_info": {
   "codemirror_mode": {
    "name": "ipython",
    "version": 2
   },
   "file_extension": ".py",
   "mimetype": "text/x-python",
   "name": "python",
   "nbconvert_exporter": "python",
   "pygments_lexer": "ipython2",
   "version": "2.7.16"
  }
 },
 "nbformat": 4,
 "nbformat_minor": 2
}
