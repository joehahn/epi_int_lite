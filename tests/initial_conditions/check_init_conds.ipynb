{
 "cells": [
  {
   "cell_type": "code",
   "execution_count": 1,
   "metadata": {
    "collapsed": true
   },
   "outputs": [],
   "source": [
    "#check_init_conds.ipynb\n",
    "#by Joe Hahn, jmh.datasciences@gmail.com, 25 October 2017.\n",
    "#confirm that initial conditions are as expected"
   ]
  },
  {
   "cell_type": "code",
   "execution_count": 2,
   "metadata": {
    "collapsed": true
   },
   "outputs": [],
   "source": [
    "#prep plots\n",
    "%matplotlib inline\n",
    "import seaborn as sns\n",
    "import matplotlib.pyplot as plt\n",
    "from matplotlib import rcParams\n",
    "sns.set(font_scale=1.5, font='DejaVu Sans')\n",
    "import numpy as np"
   ]
  },
  {
   "cell_type": "code",
   "execution_count": 3,
   "metadata": {
    "collapsed": true
   },
   "outputs": [],
   "source": [
    "#restore output\n",
    "from helper_fns import *\n",
    "execfile('inputs.py')\n",
    "r, t, vr, vt, times, lambda0 = restore_output(output_folder)\n",
    "a, e, wt, M = coords2elem(J2, Rp, r, t, vr, vt)"
   ]
  },
  {
   "cell_type": "code",
   "execution_count": 4,
   "metadata": {},
   "outputs": [
    {
     "data": {
      "text/plain": [
       "<matplotlib.text.Text at 0x1a15e50fd0>"
      ]
     },
     "execution_count": 4,
     "metadata": {},
     "output_type": "execute_result"
    },
    {
     "data": {
      "image/png": "[encoded data removed]",
      "text/plain": [
       "<matplotlib.figure.Figure at 0x1a15e2c950>"
      ]
     },
     "metadata": {},
     "output_type": "display_data"
    }
   ],
   "source": [
    "#plot r(theta)\n",
    "twopi = 2*np.pi\n",
    "f, ax = plt.subplots(figsize=(10, 6))\n",
    "for pidx in range(number_of_streamlines):\n",
    "    dr = r[:, pidx] - r[0, number_of_streamlines/2]\n",
    "    ax.plot(times/twopi, dr, linestyle='-')\n",
    "ax.set_ylim(-7.0e-4, 7.0e-4)\n",
    "ax.set_title('r(t)')\n",
    "ax.set_xlabel('time t    (orbits)')\n",
    "ax.set_ylabel('radial displacement $\\Delta$ r')"
   ]
  },
  {
   "cell_type": "code",
   "execution_count": 5,
   "metadata": {},
   "outputs": [
    {
     "data": {
      "text/plain": [
       "array([[  0.00000000e+00,   0.00000000e+00,   0.00000000e+00,\n",
       "          0.00000000e+00,   0.00000000e+00,   0.00000000e+00,\n",
       "          0.00000000e+00,   0.00000000e+00,   0.00000000e+00,\n",
       "          0.00000000e+00,   0.00000000e+00,   0.00000000e+00,\n",
       "          0.00000000e+00,   0.00000000e+00,   0.00000000e+00,\n",
       "          0.00000000e+00,   0.00000000e+00,   0.00000000e+00,\n",
       "          0.00000000e+00,   0.00000000e+00,   0.00000000e+00],\n",
       "       [  0.00000000e+00,   0.00000000e+00,   0.00000000e+00,\n",
       "          0.00000000e+00,   0.00000000e+00,   0.00000000e+00,\n",
       "          0.00000000e+00,   0.00000000e+00,   0.00000000e+00,\n",
       "          0.00000000e+00,   0.00000000e+00,   0.00000000e+00,\n",
       "          0.00000000e+00,   0.00000000e+00,   0.00000000e+00,\n",
       "          0.00000000e+00,   0.00000000e+00,   0.00000000e+00,\n",
       "          0.00000000e+00,   0.00000000e+00,   0.00000000e+00],\n",
       "       [  0.00000000e+00,   0.00000000e+00,   0.00000000e+00,\n",
       "          0.00000000e+00,   0.00000000e+00,   0.00000000e+00,\n",
       "          0.00000000e+00,   0.00000000e+00,   0.00000000e+00,\n",
       "          0.00000000e+00,   0.00000000e+00,   0.00000000e+00,\n",
       "          0.00000000e+00,   0.00000000e+00,   0.00000000e+00,\n",
       "          0.00000000e+00,   0.00000000e+00,   0.00000000e+00,\n",
       "          0.00000000e+00,   0.00000000e+00,   0.00000000e+00],\n",
       "       [  4.44089210e-16,   4.44089210e-16,   4.44089210e-16,\n",
       "          4.44089210e-16,   4.44089210e-16,   4.44089210e-16,\n",
       "          4.44089210e-16,   4.44089210e-16,   4.44089210e-16,\n",
       "          4.44089210e-16,   4.44089210e-16,   4.44089210e-16,\n",
       "          4.44089210e-16,   4.44089210e-16,   4.44089210e-16,\n",
       "          4.44089210e-16,   4.44089210e-16,   4.44089210e-16,\n",
       "          4.44089210e-16,   4.44089210e-16,   4.44089210e-16],\n",
       "       [  2.22044605e-16,   2.22044605e-16,   2.22044605e-16,\n",
       "          2.22044605e-16,   2.22044605e-16,   2.22044605e-16,\n",
       "          2.22044605e-16,   2.22044605e-16,   2.22044605e-16,\n",
       "          2.22044605e-16,   2.22044605e-16,   2.22044605e-16,\n",
       "          2.22044605e-16,   2.22044605e-16,   2.22044605e-16,\n",
       "          2.22044605e-16,   2.22044605e-16,   2.22044605e-16,\n",
       "          2.22044605e-16,   2.22044605e-16,   2.22044605e-16],\n",
       "       [  2.22044605e-16,   2.22044605e-16,   2.22044605e-16,\n",
       "          2.22044605e-16,   2.22044605e-16,   2.22044605e-16,\n",
       "          2.22044605e-16,   2.22044605e-16,   2.22044605e-16,\n",
       "          2.22044605e-16,   2.22044605e-16,   2.22044605e-16,\n",
       "          2.22044605e-16,   2.22044605e-16,   2.22044605e-16,\n",
       "          2.22044605e-16,   2.22044605e-16,   2.22044605e-16,\n",
       "          2.22044605e-16,   2.22044605e-16,   2.22044605e-16],\n",
       "       [  0.00000000e+00,   0.00000000e+00,   0.00000000e+00,\n",
       "          0.00000000e+00,   0.00000000e+00,   0.00000000e+00,\n",
       "          0.00000000e+00,   0.00000000e+00,   0.00000000e+00,\n",
       "          0.00000000e+00,   0.00000000e+00,   0.00000000e+00,\n",
       "          0.00000000e+00,   0.00000000e+00,   0.00000000e+00,\n",
       "          0.00000000e+00,   0.00000000e+00,   0.00000000e+00,\n",
       "          0.00000000e+00,   0.00000000e+00,   0.00000000e+00],\n",
       "       [  2.22044605e-16,   2.22044605e-16,   2.22044605e-16,\n",
       "          2.22044605e-16,   2.22044605e-16,   2.22044605e-16,\n",
       "          2.22044605e-16,   2.22044605e-16,   2.22044605e-16,\n",
       "          2.22044605e-16,   2.22044605e-16,   2.22044605e-16,\n",
       "          2.22044605e-16,   2.22044605e-16,   2.22044605e-16,\n",
       "          2.22044605e-16,   2.22044605e-16,   2.22044605e-16,\n",
       "          2.22044605e-16,   2.22044605e-16,   2.22044605e-16],\n",
       "       [  4.44089210e-16,   4.44089210e-16,   4.44089210e-16,\n",
       "          4.44089210e-16,   4.44089210e-16,   4.44089210e-16,\n",
       "          4.44089210e-16,   4.44089210e-16,   4.44089210e-16,\n",
       "          4.44089210e-16,   4.44089210e-16,   4.44089210e-16,\n",
       "          4.44089210e-16,   4.44089210e-16,   4.44089210e-16,\n",
       "          4.44089210e-16,   4.44089210e-16,   4.44089210e-16,\n",
       "          4.44089210e-16,   4.44089210e-16,   4.44089210e-16]])"
      ]
     },
     "execution_count": 5,
     "metadata": {},
     "output_type": "execute_result"
    }
   ],
   "source": [
    "e[0]"
   ]
  },
  {
   "cell_type": "code",
   "execution_count": 6,
   "metadata": {},
   "outputs": [
    {
     "data": {
      "text/plain": [
       "array([[  0.00000000e+00,   0.00000000e+00,   0.00000000e+00,\n",
       "          0.00000000e+00,   0.00000000e+00,   0.00000000e+00,\n",
       "          0.00000000e+00,   0.00000000e+00,   0.00000000e+00,\n",
       "          0.00000000e+00,   0.00000000e+00,   0.00000000e+00,\n",
       "          0.00000000e+00,   0.00000000e+00,   0.00000000e+00,\n",
       "          0.00000000e+00,   0.00000000e+00,   0.00000000e+00,\n",
       "          0.00000000e+00,   0.00000000e+00,   0.00000000e+00],\n",
       "       [  0.00000000e+00,   0.00000000e+00,   0.00000000e+00,\n",
       "          0.00000000e+00,   0.00000000e+00,   0.00000000e+00,\n",
       "          0.00000000e+00,   0.00000000e+00,   0.00000000e+00,\n",
       "          0.00000000e+00,   0.00000000e+00,   0.00000000e+00,\n",
       "          0.00000000e+00,   0.00000000e+00,   0.00000000e+00,\n",
       "          0.00000000e+00,   0.00000000e+00,   0.00000000e+00,\n",
       "          0.00000000e+00,   0.00000000e+00,   0.00000000e+00],\n",
       "       [  0.00000000e+00,   0.00000000e+00,   0.00000000e+00,\n",
       "          0.00000000e+00,   0.00000000e+00,   0.00000000e+00,\n",
       "          0.00000000e+00,   0.00000000e+00,   0.00000000e+00,\n",
       "          0.00000000e+00,   0.00000000e+00,   0.00000000e+00,\n",
       "          0.00000000e+00,   0.00000000e+00,   0.00000000e+00,\n",
       "          0.00000000e+00,   0.00000000e+00,   0.00000000e+00,\n",
       "          0.00000000e+00,   0.00000000e+00,   0.00000000e+00],\n",
       "       [  4.45320977e-15,   4.45320977e-15,   4.45320977e-15,\n",
       "          4.45320977e-15,   4.45320977e-15,   4.45320977e-15,\n",
       "          4.45320977e-15,   4.45320977e-15,   4.45320977e-15,\n",
       "          4.45320977e-15,   4.45320977e-15,   4.45320977e-15,\n",
       "          4.45320977e-15,   4.45320977e-15,   4.45320977e-15,\n",
       "          4.45320977e-15,   4.45320977e-15,   4.45320977e-15,\n",
       "          4.45320977e-15,   4.45320977e-15,   4.45320977e-15],\n",
       "       [  4.61765322e-15,   4.61765322e-15,   4.61765322e-15,\n",
       "          4.61765322e-15,   4.61765322e-15,   4.61765322e-15,\n",
       "          4.61765322e-15,   4.61765322e-15,   4.61765322e-15,\n",
       "          4.61765322e-15,   4.61765322e-15,   4.61765322e-15,\n",
       "          4.61765322e-15,   4.61765322e-15,   4.61765322e-15,\n",
       "          4.61765322e-15,   4.61765322e-15,   4.61765322e-15,\n",
       "          4.61765322e-15,   4.61765322e-15,   4.61765322e-15],\n",
       "       [  3.35157134e-15,   3.35157134e-15,   3.35157134e-15,\n",
       "          3.35157134e-15,   3.35157134e-15,   3.35157134e-15,\n",
       "          3.35157134e-15,   3.35157134e-15,   3.35157134e-15,\n",
       "          3.35157134e-15,   3.35157134e-15,   3.35157134e-15,\n",
       "          3.35157134e-15,   3.35157134e-15,   3.35157134e-15,\n",
       "          3.35157134e-15,   3.35157134e-15,   3.35157134e-15,\n",
       "          3.35157134e-15,   3.35157134e-15,   3.35157134e-15],\n",
       "       [  0.00000000e+00,   0.00000000e+00,   0.00000000e+00,\n",
       "          0.00000000e+00,   0.00000000e+00,   0.00000000e+00,\n",
       "          0.00000000e+00,   0.00000000e+00,   0.00000000e+00,\n",
       "          0.00000000e+00,   0.00000000e+00,   0.00000000e+00,\n",
       "          0.00000000e+00,   0.00000000e+00,   0.00000000e+00,\n",
       "          0.00000000e+00,   0.00000000e+00,   0.00000000e+00,\n",
       "          0.00000000e+00,   0.00000000e+00,   0.00000000e+00],\n",
       "       [  4.61689195e-15,   4.61689195e-15,   4.61689195e-15,\n",
       "          4.61689195e-15,   4.61689195e-15,   4.61689195e-15,\n",
       "          4.61689195e-15,   4.61689195e-15,   4.61689195e-15,\n",
       "          4.61689195e-15,   4.61689195e-15,   4.61689195e-15,\n",
       "          4.61689195e-15,   4.61689195e-15,   4.61689195e-15,\n",
       "          4.61689195e-15,   4.61689195e-15,   4.61689195e-15,\n",
       "          4.61689195e-15,   4.61689195e-15,   4.61689195e-15],\n",
       "       [  3.78146434e-15,   3.78146434e-15,   3.78146434e-15,\n",
       "          3.78146434e-15,   3.78146434e-15,   3.78146434e-15,\n",
       "          3.78146434e-15,   3.78146434e-15,   3.78146434e-15,\n",
       "          3.78146434e-15,   3.78146434e-15,   3.78146434e-15,\n",
       "          3.78146434e-15,   3.78146434e-15,   3.78146434e-15,\n",
       "          3.78146434e-15,   3.78146434e-15,   3.78146434e-15,\n",
       "          3.78146434e-15,   3.78146434e-15,   3.78146434e-15]])"
      ]
     },
     "execution_count": 6,
     "metadata": {},
     "output_type": "execute_result"
    }
   ],
   "source": [
    "e[-1]"
   ]
  },
  {
   "cell_type": "code",
   "execution_count": null,
   "metadata": {
    "collapsed": true
   },
   "outputs": [],
   "source": []
  }
 ],
 "metadata": {
  "kernelspec": {
   "display_name": "Python 2",
   "language": "python",
   "name": "python2"
  },
  "language_info": {
   "codemirror_mode": {
    "name": "ipython",
    "version": 2
   },
   "file_extension": ".py",
   "mimetype": "text/x-python",
   "name": "python",
   "nbconvert_exporter": "python",
   "pygments_lexer": "ipython2",
   "version": "2.7.13"
  }
 },
 "nbformat": 4,
 "nbformat_minor": 2
}
