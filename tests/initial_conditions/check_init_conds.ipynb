{
 "cells": [
  {
   "cell_type": "code",
   "execution_count": 1,
   "metadata": {
    "collapsed": true
   },
   "outputs": [],
   "source": [
    "#check_init_conds.ipynb\n",
    "#by Joe Hahn, jmh.datasciences@gmail.com, 25 October 2017.\n",
    "#confirm..."
   ]
  },
  {
   "cell_type": "code",
   "execution_count": null,
   "metadata": {
    "collapsed": true
   },
   "outputs": [],
   "source": [
    "#prep plots\n",
    "%matplotlib inline\n",
    "import seaborn as sns\n",
    "import matplotlib.pyplot as plt\n",
    "from matplotlib import rcParams\n",
    "sns.set(font_scale=1.5, font='DejaVu Sans')\n",
    "import numpy as np"
   ]
  },
  {
   "cell_type": "code",
   "execution_count": null,
   "metadata": {},
   "outputs": [],
   "source": [
    "#restore saved data & compare\n",
    "from helper_fns import *\n",
    "execfile('inputs.py')\n",
    "r, t, vr, vt, times = restore_output(output_folder)\n",
    "a, e, wt, M = coords2elem(J2, Rp, r, t, vr, vt)\n",
    "twopi = 2.0*np.pi"
   ]
  },
  {
   "cell_type": "code",
   "execution_count": null,
   "metadata": {},
   "outputs": [],
   "source": [
    "#plot r(theta)\n",
    "twopi = 2*np.pi\n",
    "f, ax = plt.subplots(figsize=(10, 6))\n",
    "for pidx in range(number_of_streamlines):\n",
    "    dr = r[:, pidx] - r[0, number_of_streamlines/2]\n",
    "    ax.plot(times/twopi, dr, linestyle='-')\n",
    "#ax.set_xlim(0, 250)\n",
    "ax.set_ylim(-6.0e-4, 6.0e-4)\n",
    "#ax.plot(tp/np.pi, rp*0 + q0, linestyle='-')\n",
    "#ax.plot(tp/np.pi, rp*0 + Q0, linestyle='-')\n",
    "ax.set_title('r(t)')\n",
    "ax.set_xlabel('time t    (orbits)')\n",
    "ax.set_ylabel('radial displacement $\\Delta$ r')"
   ]
  },
  {
   "cell_type": "code",
   "execution_count": null,
   "metadata": {},
   "outputs": [],
   "source": [
    "e[0]"
   ]
  },
  {
   "cell_type": "code",
   "execution_count": null,
   "metadata": {
    "collapsed": true
   },
   "outputs": [],
   "source": [
    "e[-1]"
   ]
  },
  {
   "cell_type": "code",
   "execution_count": null,
   "metadata": {
    "collapsed": true
   },
   "outputs": [],
   "source": []
  }
 ],
 "metadata": {
  "kernelspec": {
   "display_name": "Python 2",
   "language": "python",
   "name": "python2"
  },
  "language_info": {
   "codemirror_mode": {
    "name": "ipython",
    "version": 2
   },
   "file_extension": ".py",
   "mimetype": "text/x-python",
   "name": "python",
   "nbconvert_exporter": "python",
   "pygments_lexer": "ipython2",
   "version": "2.7.13"
  }
 },
 "nbformat": 4,
 "nbformat_minor": 2
}
