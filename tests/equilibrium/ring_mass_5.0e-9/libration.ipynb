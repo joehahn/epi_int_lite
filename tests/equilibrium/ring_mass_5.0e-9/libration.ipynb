{
 "cells": [
  {
   "cell_type": "code",
   "execution_count": 1,
   "metadata": {},
   "outputs": [],
   "source": [
    "#libration.ipynb\n",
    "#by Joe Hahn, jmh.datasciences@gmail.com, 16 March 2018.\n",
    "#plot librating ringlet"
   ]
  },
  {
   "cell_type": "code",
   "execution_count": 2,
   "metadata": {},
   "outputs": [
    {
     "name": "stdout",
     "output_type": "stream",
     "text": [
      "r.shape =  (5001, 2, 101)\n",
      "total_ring_mass =  5e-09\n"
     ]
    }
   ],
   "source": [
    "#restore output\n",
    "from helper_fns import *\n",
    "execfile('inputs.py')\n",
    "r, t, vr, vt, times, lambda0 = restore_output(output_folder)\n",
    "a, e, wt, M = coords2elem(J2, Rp, r, t, vr, vt)\n",
    "print 'r.shape = ', r.shape\n",
    "print 'total_ring_mass = ', total_ring_mass"
   ]
  },
  {
   "cell_type": "code",
   "execution_count": 3,
   "metadata": {},
   "outputs": [],
   "source": [
    "#calculate da, de, dwt differences at inner & outer streamline's periapse\n",
    "from libration import *\n",
    "da, de, dwt, a_avg, e_avg = calculate_deltas(r, a, e, wt)"
   ]
  },
  {
   "cell_type": "code",
   "execution_count": 4,
   "metadata": {},
   "outputs": [],
   "source": [
    "#prep plots\n",
    "%matplotlib inline\n",
    "import seaborn as sns\n",
    "import matplotlib.pyplot as plt\n",
    "from matplotlib import rcParams\n",
    "sns.set(font_scale=1.5, font='DejaVu Sans')\n",
    "import numpy as np"
   ]
  },
  {
   "cell_type": "code",
   "execution_count": null,
   "metadata": {
    "scrolled": false
   },
   "outputs": [],
   "source": [
    "#plot dwt versus time\n",
    "x = times/(2*np.pi)/1.0e4\n",
    "y = dwt\n",
    "f, ax = plt.subplots(figsize=(10, 6))\n",
    "p = ax.plot(x, y, marker='o', markersize=4, linestyle='none')\n",
    "p = ax.plot(x, y, linestyle='-', alpha=0.5, linewidth=2)\n",
    "p = ax.set_title(r'$\\Delta\\tilde{\\omega}$ at periape')\n",
    "p = ax.set_xlabel(r'time t    ($10^4$ orbits)')\n",
    "p = ax.set_ylabel(r'$\\Delta\\tilde{\\omega}$    (radians)')"
   ]
  },
  {
   "cell_type": "code",
   "execution_count": null,
   "metadata": {},
   "outputs": [],
   "source": [
    "#equilibrium de\n",
    "de_eq = 0.5*(de.max() + de.min())\n",
    "print 'de_eq = ', de_eq"
   ]
  },
  {
   "cell_type": "code",
   "execution_count": null,
   "metadata": {},
   "outputs": [],
   "source": [
    "#plot delta_e versus time\n",
    "x = times/(2*np.pi)/1.0e4\n",
    "y = de\n",
    "f, ax = plt.subplots(figsize=(10, 6))\n",
    "p = ax.plot(x, y, marker='o', markersize=4, linestyle='-', linewidth=2, label=r'$\\Delta e$')\n",
    "y = x*0 + de_eq\n",
    "p = ax.plot(x, y, linestyle='-', linewidth=2, label=r'$\\Delta e_{eq}$')\n",
    "p = ax.set_title(r'$\\Delta e$ at periapse')\n",
    "p = ax.set_xlabel(r'time t    ($10^4$ orbits)')\n",
    "p = ax.set_ylabel(r'$\\Delta e$')\n",
    "p = plt.legend()"
   ]
  },
  {
   "cell_type": "code",
   "execution_count": null,
   "metadata": {},
   "outputs": [],
   "source": [
    "#plot e_avg versus time\n",
    "x = times/(2*np.pi)/1.0e4\n",
    "y = e_avg\n",
    "f, ax = plt.subplots(figsize=(10, 6))\n",
    "p = ax.plot(x, y, marker='o', markersize=4, linestyle='-', linewidth=1, label='e')\n",
    "e_avg_mean =  e_avg.mean()\n",
    "y = x*0 + e_avg_mean\n",
    "p = ax.plot(x, y, linestyle='-', linewidth=2, label=r'e$_{avg}$')\n",
    "p = ax.set_title(r'$e_{avg} = (e_0+e_1)/2$')\n",
    "p = ax.set_xlabel(r'time t    ($10^4$ orbits)')\n",
    "p = ax.set_ylabel(r'$e$')\n",
    "p = plt.legend()"
   ]
  },
  {
   "cell_type": "code",
   "execution_count": null,
   "metadata": {},
   "outputs": [],
   "source": [
    "#lowest-order q2 and H(q2)\n",
    "H, q2 = H_q2(a_avg, e_avg, da, de, dwt)\n",
    "H_avg = 0.5*(H.min() + H.max())\n",
    "q = np.sqrt(q2)"
   ]
  },
  {
   "cell_type": "code",
   "execution_count": null,
   "metadata": {},
   "outputs": [],
   "source": [
    "#plot q versus time\n",
    "x = times/(2*np.pi)/1.0e4\n",
    "y = q\n",
    "f, ax = plt.subplots(figsize=(10, 6))\n",
    "p = ax.plot(x, y, marker='o', markersize=4, linestyle='none')\n",
    "p = ax.plot(x, y, linestyle='-', alpha=0.5, linewidth=2)\n",
    "p = ax.set_title(r'$q(t)$')\n",
    "p = ax.set_xlabel(r'time t    ($10^4$ orbits)')\n",
    "p = ax.set_ylabel(r'$q(t)$')"
   ]
  },
  {
   "cell_type": "code",
   "execution_count": null,
   "metadata": {},
   "outputs": [],
   "source": [
    "#plot H(q2) versus time\n",
    "x = times/(2*np.pi)/1.0e4\n",
    "y = H\n",
    "f, ax = plt.subplots(figsize=(10, 6))\n",
    "p = ax.plot(x, y, linestyle='-', linewidth=2, label='H')\n",
    "y = x*0 + H_avg\n",
    "p = ax.plot(x, y, linestyle='-', linewidth=2, label='H_avg')\n",
    "p = ax.set_title(r'$H(t)$')\n",
    "p = ax.set_xlabel(r'time t    ($10^4$ orbits)')\n",
    "p = ax.set_ylabel(r'$H(t)$')\n",
    "p = plt.legend()"
   ]
  },
  {
   "cell_type": "code",
   "execution_count": null,
   "metadata": {},
   "outputs": [],
   "source": [
    "#integral of motion from BGT\n",
    "Ix = (de - de_eq)*a_avg/da\n",
    "Iy = e_avg*a_avg*dwt/da\n",
    "I = np.sqrt(Ix**2 + Iy**2)\n",
    "print 'I.mean() = ', I.mean()"
   ]
  },
  {
   "cell_type": "code",
   "execution_count": null,
   "metadata": {},
   "outputs": [],
   "source": [
    "#plot I versus time\n",
    "x = times/(2*np.pi)/1.0e4\n",
    "y = I\n",
    "f, ax = plt.subplots(figsize=(10, 6))\n",
    "p = ax.plot(x, y, linestyle='-', linewidth=2, label=r'$I$')\n",
    "p = ax.plot(x, Ix, linestyle='-', linewidth=2, label=r'$I_x$')\n",
    "p = ax.plot(x, Iy, linestyle='-', linewidth=2, label=r'$I_y$')\n",
    "p = ax.set_title(r'integral of motion')\n",
    "p = ax.set_xlabel(r'time t    ($10^4$ orbits)')\n",
    "p = ax.set_ylabel('I')\n",
    "p = plt.legend()"
   ]
  },
  {
   "cell_type": "code",
   "execution_count": null,
   "metadata": {},
   "outputs": [],
   "source": [
    "#BGT's equilibrium de\n",
    "M_central = 1.0\n",
    "Ra = (Rp/a_avg).mean()\n",
    "da_over_a = (da/a_avg).mean()\n",
    "de_eq_bgt = (21.0/4)*np.pi*e_avg.mean()*J2*(M_central/total_ring_mass)*(Ra**2)*(da_over_a**3)/H_avg\n",
    "print 'equilibrium de_eq = ', de_eq\n",
    "print 'equilibrium de_eq_bgt = ', de_eq_bgt"
   ]
  },
  {
   "cell_type": "code",
   "execution_count": null,
   "metadata": {},
   "outputs": [],
   "source": [
    "#plot (Ix, Iy)\n",
    "f, ax = plt.subplots(figsize=(8, 8))\n",
    "p = ax.set_title(r'$I(e, \\Delta\\tilde{\\omega})$ level curve')\n",
    "p = ax.set_xlabel(r'$I_x = (\\Delta e - \\Delta e_{eq})a/\\Delta a$')\n",
    "p = ax.set_ylabel(r'$I_y = ea\\Delta\\tilde{\\omega}/\\Delta a$')\n",
    "x = Ix\n",
    "y = Iy\n",
    "p = ax.plot(x, y, marker='o', markersize=1, linestyle='none')"
   ]
  },
  {
   "cell_type": "code",
   "execution_count": null,
   "metadata": {},
   "outputs": [],
   "source": [
    "#BGT libration period\n",
    "GM = 1.0\n",
    "a3 = (a_avg**3).mean()\n",
    "a_over_da = (a_avg/da).mean()\n",
    "n = np.sqrt(GM/a3)\n",
    "omega_bgt = (total_ring_mass/M_central)*(a_over_da**2)*n*H_avg/np.pi\n",
    "T_bgt = 2*np.pi/omega_bgt\n",
    "print 'BGT libration frequency = ', omega_bgt\n",
    "print 'BGT libration period (10^4 orbits) = ', T_bgt/1.0e4"
   ]
  },
  {
   "cell_type": "code",
   "execution_count": null,
   "metadata": {},
   "outputs": [],
   "source": [
    "#compute libration phase & frequency\n",
    "phase = np.arctan2(Iy, Ix)\n",
    "phase_unrolled = unroll_angle(phase)\n",
    "coeff = np.polyfit(times, phase_unrolled, 1)\n",
    "omega = coeff[0]\n",
    "phase_fit = coeff[1] + coeff[0]*times\n",
    "x = times/(2*np.pi)/1.0e4\n",
    "y = phase_unrolled/(2*np.pi)\n",
    "f, ax = plt.subplots(figsize=(10, 6))\n",
    "p = ax.plot(x, y, linestyle='-', linewidth=2, label='unrolled phase')\n",
    "y = phase/(2*np.pi)\n",
    "p = ax.plot(x, y, linestyle='-', linewidth=2, label='phase')\n",
    "y = phase_fit/(2*np.pi)\n",
    "p = ax.plot(x, y, linestyle='-', linewidth=1, label='linear fit')\n",
    "p = ax.set_title('libration phase vs time')\n",
    "p = ax.set_xlabel(r'time t    ($10^4$ orbits)')\n",
    "p = ax.set_ylabel(r'phase    ($2\\pi$)')\n",
    "p = plt.legend()"
   ]
  },
  {
   "cell_type": "code",
   "execution_count": null,
   "metadata": {},
   "outputs": [],
   "source": [
    "#simulation's libration frequency\n",
    "T = 2*np.pi/omega\n",
    "print 'omega, omega_bgt = ', omega, omega_bgt\n",
    "print 'omega/omega_bgt = ', omega/omega_bgt\n",
    "print 'T, T_bgt (10^5 orbits) = ', T/1.0e5, T_bgt/1.0e5"
   ]
  },
  {
   "cell_type": "code",
   "execution_count": null,
   "metadata": {},
   "outputs": [],
   "source": [
    "#estimated e_prime at the equilibrium fixed point\n",
    "e_prime = (a_avg*de_eq/da).mean()\n",
    "print 'e_prime = ', e_prime"
   ]
  },
  {
   "cell_type": "code",
   "execution_count": null,
   "metadata": {},
   "outputs": [],
   "source": []
  }
 ],
 "metadata": {
  "kernelspec": {
   "display_name": "Python 2",
   "language": "python",
   "name": "python2"
  },
  "language_info": {
   "codemirror_mode": {
    "name": "ipython",
    "version": 2
   },
   "file_extension": ".py",
   "mimetype": "text/x-python",
   "name": "python",
   "nbconvert_exporter": "python",
   "pygments_lexer": "ipython2",
   "version": "2.7.16"
  }
 },
 "nbformat": 4,
 "nbformat_minor": 2
}
