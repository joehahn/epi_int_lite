{
 "cells": [
  {
   "cell_type": "code",
   "execution_count": 1,
   "metadata": {},
   "outputs": [],
   "source": [
    "#check_rates.ipynb\n",
    "#by Joe Hahn, jmh.datasciences@gmail.com, 25 October 2017.\n",
    "#confirm that M advances at rate Kappa and wt advances as Omega - Kappa"
   ]
  },
  {
   "cell_type": "code",
   "execution_count": 2,
   "metadata": {},
   "outputs": [],
   "source": [
    "#prep plots\n",
    "%matplotlib inline\n",
    "import seaborn as sns\n",
    "import matplotlib.pyplot as plt\n",
    "from matplotlib import rcParams\n",
    "sns.set(font_scale=1.5, font='DejaVu Sans')\n",
    "import numpy as np"
   ]
  },
  {
   "cell_type": "code",
   "execution_count": 3,
   "metadata": {},
   "outputs": [],
   "source": [
    "#restore output\n",
    "from helper_fns import *\n",
    "execfile('inputs.py')\n",
    "r, t, vr, vt, times, lambda0 = restore_output(output_folder)\n",
    "a, e, wt, M = coords2elem(J2, Rp, r, t, vr, vt)"
   ]
  },
  {
   "cell_type": "code",
   "execution_count": 4,
   "metadata": {},
   "outputs": [
    {
     "data": {
      "text/plain": [
       "array([[2.22044605e-16, 2.22044605e-16, 2.22044605e-16],\n",
       "       [2.22044605e-16, 2.22044605e-16, 2.22044605e-16],\n",
       "       [0.00000000e+00, 0.00000000e+00, 0.00000000e+00],\n",
       "       [2.22044605e-16, 2.22044605e-16, 2.22044605e-16],\n",
       "       [0.00000000e+00, 0.00000000e+00, 0.00000000e+00],\n",
       "       [0.00000000e+00, 0.00000000e+00, 0.00000000e+00],\n",
       "       [2.22044605e-16, 2.22044605e-16, 2.22044605e-16],\n",
       "       [2.22044605e-16, 2.22044605e-16, 2.22044605e-16],\n",
       "       [0.00000000e+00, 0.00000000e+00, 0.00000000e+00],\n",
       "       [0.00000000e+00, 0.00000000e+00, 0.00000000e+00],\n",
       "       [0.00000000e+00, 0.00000000e+00, 0.00000000e+00]])"
      ]
     },
     "execution_count": 4,
     "metadata": {},
     "output_type": "execute_result"
    }
   ],
   "source": [
    "e[0]"
   ]
  },
  {
   "cell_type": "code",
   "execution_count": 5,
   "metadata": {},
   "outputs": [
    {
     "name": "stdout",
     "output_type": "stream",
     "text": [
      "32001 96003 96003 96003\n",
      "1.02 0.0 1.02 1.02\n"
     ]
    }
   ],
   "source": [
    "#select a particle\n",
    "idx = 2\n",
    "rp = r[:, idx].flatten()\n",
    "tp = t[:, idx].flatten()\n",
    "wtp = wt[:, idx].flatten()\n",
    "wtp_unwrapped = unwrap_angle(wtp)\n",
    "Mp = M[:, idx].flatten()\n",
    "Mp_unwrapped = unwrap_angle(Mp)\n",
    "a0 = a[0, idx][0]\n",
    "e0 = e[0, idx][0]\n",
    "q0 = a0/np.sqrt(1.0 + 2.0*e0)\n",
    "Q0 = a0/np.sqrt(1.0 - 2.0*e0)\n",
    "print len(times), len(rp), len(tp), len(wtp)\n",
    "print a0, e0, q0, Q0"
   ]
  },
  {
   "cell_type": "code",
   "execution_count": 6,
   "metadata": {},
   "outputs": [
    {
     "data": {
      "text/plain": [
       "Text(0,0.5,'r')"
      ]
     },
     "execution_count": 6,
     "metadata": {},
     "output_type": "execute_result"
    },
    {
     "data": {
      "image/png": "[encoded data removed]",
      "text/plain": [
       "<Figure size 720x432 with 1 Axes>"
      ]
     },
     "metadata": {
      "needs_background": "light"
     },
     "output_type": "display_data"
    }
   ],
   "source": [
    "#plot r(theta) and confirm that q<r<Q\n",
    "f, ax = plt.subplots(figsize=(10, 6))\n",
    "ax.plot(tp/np.pi, rp, marker='o', markersize=2, linestyle='none')\n",
    "ax.plot(tp/np.pi, rp*0 + q0, linestyle='-')\n",
    "ax.plot(tp/np.pi, rp*0 + Q0, linestyle='-')\n",
    "ax.set_title('$r(\\\\theta)$')\n",
    "ax.set_xlabel('longitude    $\\\\theta/\\pi$')\n",
    "ax.set_ylabel('r')"
   ]
  },
  {
   "cell_type": "code",
   "execution_count": 7,
   "metadata": {},
   "outputs": [
    {
     "ename": "ValueError",
     "evalue": "x and y must have same first dimension, but have shapes (32001,) and (96003,)",
     "output_type": "error",
     "traceback": [
      "\u001b[0;31m---------------------------------------------------------------------------\u001b[0m",
      "\u001b[0;31mValueError\u001b[0m                                Traceback (most recent call last)",
      "\u001b[0;32m<ipython-input-7-5186d70adde0>\u001b[0m in \u001b[0;36m<module>\u001b[0;34m()\u001b[0m\n\u001b[1;32m      1\u001b[0m \u001b[0;31m#plot r(time)...red dots indicate times of periapse passage\u001b[0m\u001b[0;34m\u001b[0m\u001b[0;34m\u001b[0m\u001b[0m\n\u001b[1;32m      2\u001b[0m \u001b[0mf\u001b[0m\u001b[0;34m,\u001b[0m \u001b[0max\u001b[0m \u001b[0;34m=\u001b[0m \u001b[0mplt\u001b[0m\u001b[0;34m.\u001b[0m\u001b[0msubplots\u001b[0m\u001b[0;34m(\u001b[0m\u001b[0mfigsize\u001b[0m\u001b[0;34m=\u001b[0m\u001b[0;34m(\u001b[0m\u001b[0;36m10\u001b[0m\u001b[0;34m,\u001b[0m \u001b[0;36m6\u001b[0m\u001b[0;34m)\u001b[0m\u001b[0;34m)\u001b[0m\u001b[0;34m\u001b[0m\u001b[0m\n\u001b[0;32m----> 3\u001b[0;31m \u001b[0max\u001b[0m\u001b[0;34m.\u001b[0m\u001b[0mplot\u001b[0m\u001b[0;34m(\u001b[0m\u001b[0mtimes\u001b[0m\u001b[0;34m/\u001b[0m\u001b[0;34m(\u001b[0m\u001b[0;36m2.0\u001b[0m\u001b[0;34m*\u001b[0m\u001b[0mnp\u001b[0m\u001b[0;34m.\u001b[0m\u001b[0mpi\u001b[0m\u001b[0;34m)\u001b[0m\u001b[0;34m,\u001b[0m \u001b[0mrp\u001b[0m\u001b[0;34m,\u001b[0m \u001b[0mmarker\u001b[0m\u001b[0;34m=\u001b[0m\u001b[0;34m'o'\u001b[0m\u001b[0;34m,\u001b[0m \u001b[0mmarkersize\u001b[0m\u001b[0;34m=\u001b[0m\u001b[0;36m1\u001b[0m\u001b[0;34m,\u001b[0m \u001b[0mlinestyle\u001b[0m\u001b[0;34m=\u001b[0m\u001b[0;34m'-'\u001b[0m\u001b[0;34m)\u001b[0m\u001b[0;34m\u001b[0m\u001b[0m\n\u001b[0m\u001b[1;32m      4\u001b[0m \u001b[0max\u001b[0m\u001b[0;34m.\u001b[0m\u001b[0mset_title\u001b[0m\u001b[0;34m(\u001b[0m\u001b[0;34m'r(t)'\u001b[0m\u001b[0;34m)\u001b[0m\u001b[0;34m\u001b[0m\u001b[0m\n\u001b[1;32m      5\u001b[0m \u001b[0max\u001b[0m\u001b[0;34m.\u001b[0m\u001b[0mset_xlabel\u001b[0m\u001b[0;34m(\u001b[0m\u001b[0;34m'time t    (orbits)'\u001b[0m\u001b[0;34m)\u001b[0m\u001b[0;34m\u001b[0m\u001b[0m\n",
      "\u001b[0;32m/Users/lucy/miniconda2/lib/python2.7/site-packages/matplotlib/__init__.pyc\u001b[0m in \u001b[0;36minner\u001b[0;34m(ax, *args, **kwargs)\u001b[0m\n\u001b[1;32m   1865\u001b[0m                         \u001b[0;34m\"the Matplotlib list!)\"\u001b[0m \u001b[0;34m%\u001b[0m \u001b[0;34m(\u001b[0m\u001b[0mlabel_namer\u001b[0m\u001b[0;34m,\u001b[0m \u001b[0mfunc\u001b[0m\u001b[0;34m.\u001b[0m\u001b[0m__name__\u001b[0m\u001b[0;34m)\u001b[0m\u001b[0;34m,\u001b[0m\u001b[0;34m\u001b[0m\u001b[0m\n\u001b[1;32m   1866\u001b[0m                         RuntimeWarning, stacklevel=2)\n\u001b[0;32m-> 1867\u001b[0;31m             \u001b[0;32mreturn\u001b[0m \u001b[0mfunc\u001b[0m\u001b[0;34m(\u001b[0m\u001b[0max\u001b[0m\u001b[0;34m,\u001b[0m \u001b[0;34m*\u001b[0m\u001b[0margs\u001b[0m\u001b[0;34m,\u001b[0m \u001b[0;34m**\u001b[0m\u001b[0mkwargs\u001b[0m\u001b[0;34m)\u001b[0m\u001b[0;34m\u001b[0m\u001b[0m\n\u001b[0m\u001b[1;32m   1868\u001b[0m \u001b[0;34m\u001b[0m\u001b[0m\n\u001b[1;32m   1869\u001b[0m         inner.__doc__ = _add_data_doc(inner.__doc__,\n",
      "\u001b[0;32m/Users/lucy/miniconda2/lib/python2.7/site-packages/matplotlib/axes/_axes.pyc\u001b[0m in \u001b[0;36mplot\u001b[0;34m(self, *args, **kwargs)\u001b[0m\n\u001b[1;32m   1526\u001b[0m         \u001b[0mkwargs\u001b[0m \u001b[0;34m=\u001b[0m \u001b[0mcbook\u001b[0m\u001b[0;34m.\u001b[0m\u001b[0mnormalize_kwargs\u001b[0m\u001b[0;34m(\u001b[0m\u001b[0mkwargs\u001b[0m\u001b[0;34m,\u001b[0m \u001b[0m_alias_map\u001b[0m\u001b[0;34m)\u001b[0m\u001b[0;34m\u001b[0m\u001b[0m\n\u001b[1;32m   1527\u001b[0m \u001b[0;34m\u001b[0m\u001b[0m\n\u001b[0;32m-> 1528\u001b[0;31m         \u001b[0;32mfor\u001b[0m \u001b[0mline\u001b[0m \u001b[0;32min\u001b[0m \u001b[0mself\u001b[0m\u001b[0;34m.\u001b[0m\u001b[0m_get_lines\u001b[0m\u001b[0;34m(\u001b[0m\u001b[0;34m*\u001b[0m\u001b[0margs\u001b[0m\u001b[0;34m,\u001b[0m \u001b[0;34m**\u001b[0m\u001b[0mkwargs\u001b[0m\u001b[0;34m)\u001b[0m\u001b[0;34m:\u001b[0m\u001b[0;34m\u001b[0m\u001b[0m\n\u001b[0m\u001b[1;32m   1529\u001b[0m             \u001b[0mself\u001b[0m\u001b[0;34m.\u001b[0m\u001b[0madd_line\u001b[0m\u001b[0;34m(\u001b[0m\u001b[0mline\u001b[0m\u001b[0;34m)\u001b[0m\u001b[0;34m\u001b[0m\u001b[0m\n\u001b[1;32m   1530\u001b[0m             \u001b[0mlines\u001b[0m\u001b[0;34m.\u001b[0m\u001b[0mappend\u001b[0m\u001b[0;34m(\u001b[0m\u001b[0mline\u001b[0m\u001b[0;34m)\u001b[0m\u001b[0;34m\u001b[0m\u001b[0m\n",
      "\u001b[0;32m/Users/lucy/miniconda2/lib/python2.7/site-packages/matplotlib/axes/_base.pyc\u001b[0m in \u001b[0;36m_grab_next_args\u001b[0;34m(self, *args, **kwargs)\u001b[0m\n\u001b[1;32m    404\u001b[0m                 \u001b[0mthis\u001b[0m \u001b[0;34m+=\u001b[0m \u001b[0margs\u001b[0m\u001b[0;34m[\u001b[0m\u001b[0;36m0\u001b[0m\u001b[0;34m]\u001b[0m\u001b[0;34m,\u001b[0m\u001b[0;34m\u001b[0m\u001b[0m\n\u001b[1;32m    405\u001b[0m                 \u001b[0margs\u001b[0m \u001b[0;34m=\u001b[0m \u001b[0margs\u001b[0m\u001b[0;34m[\u001b[0m\u001b[0;36m1\u001b[0m\u001b[0;34m:\u001b[0m\u001b[0;34m]\u001b[0m\u001b[0;34m\u001b[0m\u001b[0m\n\u001b[0;32m--> 406\u001b[0;31m             \u001b[0;32mfor\u001b[0m \u001b[0mseg\u001b[0m \u001b[0;32min\u001b[0m \u001b[0mself\u001b[0m\u001b[0;34m.\u001b[0m\u001b[0m_plot_args\u001b[0m\u001b[0;34m(\u001b[0m\u001b[0mthis\u001b[0m\u001b[0;34m,\u001b[0m \u001b[0mkwargs\u001b[0m\u001b[0;34m)\u001b[0m\u001b[0;34m:\u001b[0m\u001b[0;34m\u001b[0m\u001b[0m\n\u001b[0m\u001b[1;32m    407\u001b[0m                 \u001b[0;32myield\u001b[0m \u001b[0mseg\u001b[0m\u001b[0;34m\u001b[0m\u001b[0m\n\u001b[1;32m    408\u001b[0m \u001b[0;34m\u001b[0m\u001b[0m\n",
      "\u001b[0;32m/Users/lucy/miniconda2/lib/python2.7/site-packages/matplotlib/axes/_base.pyc\u001b[0m in \u001b[0;36m_plot_args\u001b[0;34m(self, tup, kwargs)\u001b[0m\n\u001b[1;32m    381\u001b[0m             \u001b[0mx\u001b[0m\u001b[0;34m,\u001b[0m \u001b[0my\u001b[0m \u001b[0;34m=\u001b[0m \u001b[0mindex_of\u001b[0m\u001b[0;34m(\u001b[0m\u001b[0mtup\u001b[0m\u001b[0;34m[\u001b[0m\u001b[0;34m-\u001b[0m\u001b[0;36m1\u001b[0m\u001b[0;34m]\u001b[0m\u001b[0;34m)\u001b[0m\u001b[0;34m\u001b[0m\u001b[0m\n\u001b[1;32m    382\u001b[0m \u001b[0;34m\u001b[0m\u001b[0m\n\u001b[0;32m--> 383\u001b[0;31m         \u001b[0mx\u001b[0m\u001b[0;34m,\u001b[0m \u001b[0my\u001b[0m \u001b[0;34m=\u001b[0m \u001b[0mself\u001b[0m\u001b[0;34m.\u001b[0m\u001b[0m_xy_from_xy\u001b[0m\u001b[0;34m(\u001b[0m\u001b[0mx\u001b[0m\u001b[0;34m,\u001b[0m \u001b[0my\u001b[0m\u001b[0;34m)\u001b[0m\u001b[0;34m\u001b[0m\u001b[0m\n\u001b[0m\u001b[1;32m    384\u001b[0m \u001b[0;34m\u001b[0m\u001b[0m\n\u001b[1;32m    385\u001b[0m         \u001b[0;32mif\u001b[0m \u001b[0mself\u001b[0m\u001b[0;34m.\u001b[0m\u001b[0mcommand\u001b[0m \u001b[0;34m==\u001b[0m \u001b[0;34m'plot'\u001b[0m\u001b[0;34m:\u001b[0m\u001b[0;34m\u001b[0m\u001b[0m\n",
      "\u001b[0;32m/Users/lucy/miniconda2/lib/python2.7/site-packages/matplotlib/axes/_base.pyc\u001b[0m in \u001b[0;36m_xy_from_xy\u001b[0;34m(self, x, y)\u001b[0m\n\u001b[1;32m    240\u001b[0m         \u001b[0;32mif\u001b[0m \u001b[0mx\u001b[0m\u001b[0;34m.\u001b[0m\u001b[0mshape\u001b[0m\u001b[0;34m[\u001b[0m\u001b[0;36m0\u001b[0m\u001b[0;34m]\u001b[0m \u001b[0;34m!=\u001b[0m \u001b[0my\u001b[0m\u001b[0;34m.\u001b[0m\u001b[0mshape\u001b[0m\u001b[0;34m[\u001b[0m\u001b[0;36m0\u001b[0m\u001b[0;34m]\u001b[0m\u001b[0;34m:\u001b[0m\u001b[0;34m\u001b[0m\u001b[0m\n\u001b[1;32m    241\u001b[0m             raise ValueError(\"x and y must have same first dimension, but \"\n\u001b[0;32m--> 242\u001b[0;31m                              \"have shapes {} and {}\".format(x.shape, y.shape))\n\u001b[0m\u001b[1;32m    243\u001b[0m         \u001b[0;32mif\u001b[0m \u001b[0mx\u001b[0m\u001b[0;34m.\u001b[0m\u001b[0mndim\u001b[0m \u001b[0;34m>\u001b[0m \u001b[0;36m2\u001b[0m \u001b[0;32mor\u001b[0m \u001b[0my\u001b[0m\u001b[0;34m.\u001b[0m\u001b[0mndim\u001b[0m \u001b[0;34m>\u001b[0m \u001b[0;36m2\u001b[0m\u001b[0;34m:\u001b[0m\u001b[0;34m\u001b[0m\u001b[0m\n\u001b[1;32m    244\u001b[0m             raise ValueError(\"x and y can be no greater than 2-D, but have \"\n",
      "\u001b[0;31mValueError\u001b[0m: x and y must have same first dimension, but have shapes (32001,) and (96003,)"
     ]
    },
    {
     "data": {
      "image/png": "[encoded data removed]",
      "text/plain": [
       "<Figure size 720x432 with 1 Axes>"
      ]
     },
     "metadata": {
      "needs_background": "light"
     },
     "output_type": "display_data"
    }
   ],
   "source": [
    "#plot r(time)...red dots indicate times of periapse passage\n",
    "f, ax = plt.subplots(figsize=(10, 6))\n",
    "ax.plot(times/(2.0*np.pi), rp, marker='o', markersize=1, linestyle='-')\n",
    "ax.set_title('r(t)')\n",
    "ax.set_xlabel('time t    (orbits)')\n",
    "ax.set_ylabel('r')\n",
    "ax.set_xlim(0, 30)\n",
    "tm_peri = (rp < 1.000001*q0)\n",
    "ax.plot(times[tm_peri]/(2.0*np.pi), rp[tm_peri], marker='o', markersize=3, linestyle='none', color='red')"
   ]
  },
  {
   "cell_type": "code",
   "execution_count": null,
   "metadata": {},
   "outputs": [],
   "source": [
    "#extract longitude of peri from r(time) plot\n",
    "f, ax = plt.subplots(figsize=(10, 6))\n",
    "ax.plot(times[tm_peri]/(2.0*np.pi), tp[tm_peri]/np.pi, marker='o', markersize=5, linestyle='-')\n",
    "ax.set_title('longitude of periapse')\n",
    "ax.set_xlabel('time t    (orbits)')\n",
    "ax.set_ylabel(r'$\\tilde{\\omega}/\\pi$')\n",
    "ax.set_xlim(0, 200)"
   ]
  },
  {
   "cell_type": "code",
   "execution_count": null,
   "metadata": {},
   "outputs": [],
   "source": [
    "#plot wtp(time) and confirm that it replicates the above\n",
    "f, ax = plt.subplots(figsize=(10, 6))\n",
    "ax.plot(times/(2.0*np.pi), wtp/np.pi, linestyle='-')\n",
    "ax.set_title('longitude of peri(time)')\n",
    "ax.set_xlabel('time t    (orbits)')\n",
    "ax.set_ylabel(r'$\\tilde{\\omega}/\\pi$')\n",
    "ax.set_xlim(0, 200)"
   ]
  },
  {
   "cell_type": "code",
   "execution_count": null,
   "metadata": {},
   "outputs": [],
   "source": [
    "#plot wtp(time) and note that it stagger-steps after every apoapse passage\n",
    "f, ax = plt.subplots(figsize=(10, 6))\n",
    "ax.plot(times/(2.0*np.pi), wtp/np.pi, marker='.', markersize=10, linestyle='-', linewidth=1)\n",
    "ax.set_title('longitude of peri(time)')\n",
    "ax.set_xlabel('time t    (orbits)')\n",
    "ax.set_ylabel(r'$\\tilde{\\omega}/\\pi$')\n",
    "ax.set_xlim(0, 3)\n",
    "ax.set_ylim(-0.75, -0.65)"
   ]
  },
  {
   "cell_type": "code",
   "execution_count": null,
   "metadata": {},
   "outputs": [],
   "source": [
    "#plot r(time)...green dots indicate times of apoapse passage\n",
    "f, ax = plt.subplots(figsize=(10, 6))\n",
    "ax.plot(times/(2.0*np.pi), rp, marker='o', markersize=1, linestyle='-')\n",
    "ax.set_title('r(t)')\n",
    "ax.set_xlabel('time t    (orbits)')\n",
    "ax.set_ylabel('r')\n",
    "ax.set_xlim(0, 3)\n",
    "tm_peri = (rp > 0.999999*Q0)\n",
    "ax.plot(times[tm_peri]/(2.0*np.pi), rp[tm_peri], marker='o', markersize=6, linestyle='none', color='green')"
   ]
  },
  {
   "cell_type": "code",
   "execution_count": null,
   "metadata": {},
   "outputs": [],
   "source": [
    "#plot wtp_unwrapped(time)\n",
    "f, ax = plt.subplots(figsize=(10, 6))\n",
    "ax.plot(times/(2.0*np.pi), wtp_unwrapped, linestyle='-')\n",
    "ax.plot(times/(2.0*np.pi), wtp, linestyle='-')\n",
    "ax.set_title('longitude of peri(time)')\n",
    "ax.set_xlabel('time t    (orbits)')\n",
    "ax.set_ylabel('longitude of periapse $\\omega/\\pi$')"
   ]
  },
  {
   "cell_type": "code",
   "execution_count": null,
   "metadata": {},
   "outputs": [],
   "source": [
    "#calculate observed and expected precession rates\n",
    "a0 = a[0].flatten()\n",
    "dwdt_obs = np.zeros_like(a0)\n",
    "for pidx in range(len(dwdt_obs)):\n",
    "    wt_unwrapped = unwrap_angle(wt[:, pidx].flatten())\n",
    "    dwdt_obs[pidx] = (wt_unwrapped[-1] - wt_unwrapped[0])/(times[-1] - times[0])\n",
    "dwdt_exp = Omega(J2, Rp, a0) - Kappa(J2, Rp, a0)\n",
    "GM = 1.0\n",
    "mean_motion = np.sqrt(GM/a0)/a0\n",
    "dwdt_alt = 1.5*J2*((Rp/a0)**2)*mean_motion"
   ]
  },
  {
   "cell_type": "code",
   "execution_count": null,
   "metadata": {},
   "outputs": [],
   "source": [
    "#compare precession rates\n",
    "f, ax = plt.subplots(figsize=(10, 6))\n",
    "ax.plot(a0, dwdt_exp, linestyle='-', label='$\\Omega - \\kappa$', color='blue', linewidth=4, alpha=0.8)\n",
    "ax.plot(a0, dwdt_alt, linestyle='--', label='$(3J/2)(R_p/a)^2n$', color='orange', linewidth=2, alpha=1.0)\n",
    "ax.plot(a0, dwdt_obs, marker='o', markersize=10, linestyle='none', label='simulated', color='red')\n",
    "ax.set_title('precession rate')\n",
    "ax.set_xlabel('semimajor axis a')\n",
    "ax.set_ylabel(r'precession rate $d\\tilde{\\omega}/dt$')\n",
    "ax.legend()"
   ]
  },
  {
   "cell_type": "code",
   "execution_count": null,
   "metadata": {},
   "outputs": [],
   "source": [
    "#plot Mp_unwrapped(time)\n",
    "f, ax = plt.subplots(figsize=(10, 6))\n",
    "ax.plot(times/(2.0*np.pi), Mp_unwrapped, linestyle='-')\n",
    "ax.plot(times/(2.0*np.pi), Mp, linestyle='-')\n",
    "ax.set_title('mean anomaly(time)')\n",
    "ax.set_xlabel('time t    (orbits)')\n",
    "ax.set_ylabel('mean anomaly $M$')\n",
    "ax.set_xlim(0, 10)\n",
    "ax.set_ylim(-10, 40)"
   ]
  },
  {
   "cell_type": "code",
   "execution_count": null,
   "metadata": {},
   "outputs": [],
   "source": [
    "#calculate observed and expected epicyclic frequencies dM/dt = Kappa\n",
    "a0 = a[0].flatten()\n",
    "dMdt_obs = np.zeros_like(a0)\n",
    "for pidx in range(len(dMdt_obs)):\n",
    "    M_unwrapped = unwrap_angle(M[:, pidx].flatten())\n",
    "    dMdt_obs[pidx] = (M_unwrapped[-1] - M_unwrapped[0])/(times[-1] - times[0])\n",
    "dMdt_exp = Kappa(J2, Rp, a0)"
   ]
  },
  {
   "cell_type": "code",
   "execution_count": null,
   "metadata": {},
   "outputs": [],
   "source": [
    "#compare epicyclic frequencies\n",
    "f, ax = plt.subplots(figsize=(10, 6))\n",
    "ax.plot(a0, dMdt_exp, linestyle='-', label='$\\kappa$', color='blue')\n",
    "ax.plot(a0, dMdt_obs, marker='o', markersize=7, linestyle='none', label='simulated', color='red')\n",
    "ax.set_title('epicyclic frequency')\n",
    "ax.set_xlabel('semimajor axis a')\n",
    "ax.set_ylabel('epicyclic frequency dM/dt')\n",
    "ax.legend()"
   ]
  },
  {
   "cell_type": "code",
   "execution_count": null,
   "metadata": {},
   "outputs": [],
   "source": []
  }
 ],
 "metadata": {
  "kernelspec": {
   "display_name": "Python 2",
   "language": "python",
   "name": "python2"
  },
  "language_info": {
   "codemirror_mode": {
    "name": "ipython",
    "version": 2
   },
   "file_extension": ".py",
   "mimetype": "text/x-python",
   "name": "python",
   "nbconvert_exporter": "python",
   "pygments_lexer": "ipython2",
   "version": "2.7.13"
  }
 },
 "nbformat": 4,
 "nbformat_minor": 2
}
