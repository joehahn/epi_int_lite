{
 "cells": [
  {
   "cell_type": "code",
   "execution_count": 1,
   "metadata": {},
   "outputs": [],
   "source": [
    "#self_confining.ipynb\n",
    "#by Joe Hahn, jmh.datasciences@gmail.com, 15 April 2018.\n",
    "#plot evolution of self-confining ringlet"
   ]
  },
  {
   "cell_type": "code",
   "execution_count": 2,
   "metadata": {},
   "outputs": [
    {
     "name": "stdout",
     "output_type": "stream",
     "text": [
      "r.shape =  (1001, 7, 61)\n",
      "total_ring_mass =  1.5e-09\n",
      "shear_viscosity =  3e-13\n",
      "initial_orbits =  {'shape': 'circular'}\n",
      "e.min() =  2.278843780348315e-12\n",
      "e.max() =  2.282907478584121e-06\n"
     ]
    }
   ],
   "source": [
    "#restore output\n",
    "from helper_fns import *\n",
    "execfile('inputs.py')\n",
    "r, t, vr, vt, times, lambda0 = restore_output(output_folder)\n",
    "a, e, wt, M = coords2elem(J2, Rp, r, t, vr, vt)\n",
    "print 'r.shape = ', r.shape\n",
    "print 'total_ring_mass = ', total_ring_mass\n",
    "print 'shear_viscosity = ', shear_viscosity\n",
    "print 'initial_orbits = ', initial_orbits\n",
    "print 'e.min() = ', e.min()\n",
    "print 'e.max() = ', e.max()"
   ]
  },
  {
   "cell_type": "code",
   "execution_count": 3,
   "metadata": {},
   "outputs": [
    {
     "name": "stdout",
     "output_type": "stream",
     "text": [
      "viscous_timescale =  69444.4444444\n"
     ]
    }
   ],
   "source": [
    "#time in units of viscous timescale\n",
    "viscous_timescale = (radial_width**2)/(12*shear_viscosity)\n",
    "print 'viscous_timescale = ', viscous_timescale\n",
    "times_viscous = times/viscous_timescale"
   ]
  },
  {
   "cell_type": "code",
   "execution_count": 4,
   "metadata": {},
   "outputs": [],
   "source": [
    "#prep plots\n",
    "%matplotlib inline\n",
    "import seaborn as sns\n",
    "import matplotlib.pyplot as plt\n",
    "from matplotlib import rcParams\n",
    "sns.set(font_scale=1.5, font='DejaVu Sans')\n",
    "import numpy as np"
   ]
  },
  {
   "cell_type": "code",
   "execution_count": 5,
   "metadata": {},
   "outputs": [
    {
     "ename": "IndexError",
     "evalue": "index 20 is out of bounds for axis 1 with size 7",
     "output_type": "error",
     "traceback": [
      "\u001b[0;31m---------------------------------------------------------------------------\u001b[0m",
      "\u001b[0;31mIndexError\u001b[0m                                Traceback (most recent call last)",
      "\u001b[0;32m<ipython-input-5-5399f2ff5442>\u001b[0m in \u001b[0;36m<module>\u001b[0;34m()\u001b[0m\n\u001b[1;32m      1\u001b[0m \u001b[0;31m#compute delta_a=a_outer-a_inner versus time\u001b[0m\u001b[0;34m\u001b[0m\u001b[0;34m\u001b[0m\u001b[0m\n\u001b[0;32m----> 2\u001b[0;31m \u001b[0ma_outer\u001b[0m \u001b[0;34m=\u001b[0m \u001b[0ma\u001b[0m\u001b[0;34m[\u001b[0m\u001b[0;34m:\u001b[0m\u001b[0;34m,\u001b[0m \u001b[0mnumber_of_streamlines\u001b[0m\u001b[0;34m-\u001b[0m\u001b[0;36m1\u001b[0m\u001b[0;34m,\u001b[0m \u001b[0;34m:\u001b[0m\u001b[0;34m]\u001b[0m\u001b[0;34m.\u001b[0m\u001b[0mmean\u001b[0m\u001b[0;34m(\u001b[0m\u001b[0maxis\u001b[0m\u001b[0;34m=\u001b[0m\u001b[0;36m1\u001b[0m\u001b[0;34m)\u001b[0m\u001b[0;34m\u001b[0m\u001b[0m\n\u001b[0m\u001b[1;32m      3\u001b[0m \u001b[0ma_inner\u001b[0m \u001b[0;34m=\u001b[0m \u001b[0ma\u001b[0m\u001b[0;34m[\u001b[0m\u001b[0;34m:\u001b[0m\u001b[0;34m,\u001b[0m \u001b[0;36m0\u001b[0m\u001b[0;34m,\u001b[0m \u001b[0;34m:\u001b[0m\u001b[0;34m]\u001b[0m\u001b[0;34m.\u001b[0m\u001b[0mmean\u001b[0m\u001b[0;34m(\u001b[0m\u001b[0maxis\u001b[0m\u001b[0;34m=\u001b[0m\u001b[0;36m1\u001b[0m\u001b[0;34m)\u001b[0m\u001b[0;34m\u001b[0m\u001b[0m\n\u001b[1;32m      4\u001b[0m \u001b[0ma_avg\u001b[0m \u001b[0;34m=\u001b[0m \u001b[0;34m(\u001b[0m\u001b[0ma_inner\u001b[0m \u001b[0;34m+\u001b[0m \u001b[0ma_outer\u001b[0m\u001b[0;34m)\u001b[0m\u001b[0;34m/\u001b[0m\u001b[0;36m2\u001b[0m\u001b[0;34m\u001b[0m\u001b[0m\n\u001b[1;32m      5\u001b[0m \u001b[0mdelta_a\u001b[0m \u001b[0;34m=\u001b[0m \u001b[0ma_outer\u001b[0m \u001b[0;34m-\u001b[0m \u001b[0ma_inner\u001b[0m\u001b[0;34m\u001b[0m\u001b[0m\n",
      "\u001b[0;31mIndexError\u001b[0m: index 20 is out of bounds for axis 1 with size 7"
     ]
    }
   ],
   "source": [
    "#compute delta_a=a_outer-a_inner versus time\n",
    "a_outer = a[:, number_of_streamlines-1, :].mean(axis=1)\n",
    "a_inner = a[:, 0, :].mean(axis=1)\n",
    "a_avg = (a_inner + a_outer)/2\n",
    "delta_a = a_outer - a_inner"
   ]
  },
  {
   "cell_type": "code",
   "execution_count": null,
   "metadata": {
    "scrolled": false
   },
   "outputs": [],
   "source": [
    "#plot streamline's mutual a-evolution\n",
    "twopi = 2*np.pi\n",
    "f, ax = plt.subplots(figsize=(10, 6))\n",
    "x = times_viscous\n",
    "y = a_outer - a_avg\n",
    "p = ax.plot(x, y, linestyle='-', linewidth=1, alpha=1, label='outer')\n",
    "y = a_avg - a_avg\n",
    "p = ax.plot(x, y, linestyle='-', linewidth=1, alpha=1, label='middle')\n",
    "y = a_inner - a_avg\n",
    "p = ax.plot(x, y, linestyle='-', linewidth=1, alpha=1, label='inner')\n",
    "p = ax.set_xlabel(r'time $t/\\tau_\\nu$')\n",
    "p = ax.set_ylabel('a - a$_{avg}$')\n",
    "p = plt.legend(loc='center right')"
   ]
  },
  {
   "cell_type": "code",
   "execution_count": null,
   "metadata": {},
   "outputs": [],
   "source": [
    "#plot delta_a versus time\n",
    "x = times_viscous\n",
    "y = delta_a\n",
    "f, ax = plt.subplots(figsize=(10, 6))\n",
    "p = ax.plot(x, y, linestyle='-', linewidth=2)\n",
    "p = ax.set_title(r'$\\Delta a$ versus time')\n",
    "p = ax.set_ylabel(r'$\\Delta a$')\n",
    "p = ax.set_xlabel(r'time $t/\\tau_\\nu$')\n",
    "p = plt.legend()"
   ]
  },
  {
   "cell_type": "code",
   "execution_count": null,
   "metadata": {},
   "outputs": [],
   "source": [
    "#compute delta_e=e_outer-e_inner and e_prime = a_mid*delta_e/delta_a versus time\n",
    "e_outer = e[:, number_of_streamlines-1, :].mean(axis=1)\n",
    "e_inner = e[:, 0, :].mean(axis=1)\n",
    "e_avg = (e_inner + e_outer)/2\n",
    "delta_e = e_outer - e_inner\n",
    "e_prime = a_avg*delta_e/delta_a"
   ]
  },
  {
   "cell_type": "code",
   "execution_count": null,
   "metadata": {},
   "outputs": [],
   "source": [
    "#plot streamline's e-evolution\n",
    "twopi = 2*np.pi\n",
    "f, ax = plt.subplots(figsize=(10, 6))\n",
    "x = times_viscous\n",
    "y = e_outer\n",
    "p = ax.plot(x, y, linestyle='-', linewidth=2, alpha=0.8, label='outer')\n",
    "y = e_avg\n",
    "p = ax.plot(x, y, linestyle='-', linewidth=2, alpha=0.8, label='avg e')\n",
    "y = e_inner\n",
    "p = ax.plot(x, y, linestyle='-', linewidth=2, alpha=0.8, label='inner')\n",
    "p = ax.set_title('eccentricity versus time')\n",
    "p = ax.set_ylabel('eccentricity e')\n",
    "p = ax.set_xlabel(r'time $t/\\tau_\\nu$')\n",
    "p = plt.legend()"
   ]
  },
  {
   "cell_type": "code",
   "execution_count": null,
   "metadata": {},
   "outputs": [],
   "source": [
    "#compute inner streamline's periapse distance and outer streamline's apo\n",
    "q_inner = a_inner*(1.0 - e_inner)\n",
    "Q_outer = a_outer*(1.0 + e_inner)"
   ]
  },
  {
   "cell_type": "code",
   "execution_count": null,
   "metadata": {},
   "outputs": [],
   "source": [
    "#plot streamline's qQ-evolution\n",
    "f, ax = plt.subplots(figsize=(10, 6))\n",
    "x = times_viscous\n",
    "y = Q_outer\n",
    "p = ax.plot(x, y, linestyle='-', linewidth=2, alpha=0.8, label='Q_outer')\n",
    "y = a_avg\n",
    "p = ax.plot(x, y, linestyle='-', linewidth=2, alpha=0.8, label='a_avg')\n",
    "y = q_inner\n",
    "p = ax.plot(x, y, linestyle='-', linewidth=2, alpha=0.8, label='q_inner')\n",
    "p = ax.set_title('$q$ and $Q$ versus time')\n",
    "p = ax.set_ylabel(r'$Q_{outer}$ and $q_{inner}$')\n",
    "p = ax.set_xlabel(r'time $t/\\tau_\\nu$')\n",
    "p = plt.legend(loc='center')"
   ]
  },
  {
   "cell_type": "code",
   "execution_count": null,
   "metadata": {},
   "outputs": [],
   "source": [
    "#plot streamline's Q-q\n",
    "f, ax = plt.subplots(figsize=(10, 6))\n",
    "x = times_viscous\n",
    "y = Q_outer - q_inner\n",
    "p = ax.plot(x, y, linestyle='-', linewidth=2, alpha=0.8)\n",
    "p = ax.set_title('$Q-q$ versus time')\n",
    "p = ax.set_xlabel(r'time $t/\\tau_\\nu$')\n",
    "p = ax.set_ylabel(r'$Q-q$')\n",
    "p = plt.legend()"
   ]
  },
  {
   "cell_type": "code",
   "execution_count": null,
   "metadata": {},
   "outputs": [],
   "source": [
    "#plot ringlet area over time\n",
    "area_outer = np.pi*(a_outer**2)*np.sqrt(1.0 - e_outer**2)\n",
    "area_inner = np.pi*(a_inner**2)*np.sqrt(1.0 - e_inner**2)\n",
    "area = area_outer - area_inner\n",
    "area_circular = np.pi*(a_outer**2 - a_inner**2)\n",
    "f, ax = plt.subplots(figsize=(10, 6))\n",
    "x = times_viscous\n",
    "y = area/area_circular[0]\n",
    "p = ax.plot(x, y, linestyle='-', linewidth=2, alpha=0.8)\n",
    "p = ax.set_title('ringlet area versus time')\n",
    "p = ax.set_ylabel(r'$A/A_c$')\n",
    "p = ax.set_xlabel(r'time $t/\\tau_\\nu$')\n",
    "p = plt.legend()"
   ]
  },
  {
   "cell_type": "code",
   "execution_count": null,
   "metadata": {},
   "outputs": [],
   "source": [
    "#compute delta_w=wt_outer-wt_inner and wt_prime = a_mid*e_mid*delta_wt/delta_a \n",
    "#and q=sqrt(e_prime^2 + wt_prime^2) versus time\n",
    "delta_wt_list = []\n",
    "for t_idx in range(len(times)):\n",
    "    s_idx = 0\n",
    "    r0 = r[t_idx, s_idx]\n",
    "    theta_idx = np.argmin(r0)\n",
    "    wt_inner = wt[t_idx, s_idx, theta_idx]\n",
    "    s_idx = 1\n",
    "    r0 = r[t_idx, s_idx]\n",
    "    theta_idx = np.argmin(r0)\n",
    "    wt_outer = wt[t_idx, s_idx, theta_idx]\n",
    "    delta_wt_list += [wt_outer - wt_inner]\n",
    "delta_wt = adjust_angle(np.array(delta_wt_list))\n",
    "wt_prime = a_avg*e_avg*delta_wt/delta_a\n",
    "q = np.sqrt(e_prime**2 + wt_prime**2)"
   ]
  },
  {
   "cell_type": "code",
   "execution_count": null,
   "metadata": {},
   "outputs": [],
   "source": [
    "#plot delta_e and delta_wt versus time\n",
    "x = times_viscous\n",
    "y = delta_wt\n",
    "f, ax = plt.subplots(figsize=(10, 6))\n",
    "p = ax.plot(x, y, linestyle='-', linewidth=2, label=r'$\\Delta\\tilde{\\omega}$')\n",
    "y = delta_e\n",
    "p = ax.plot(x, y, linestyle='-', linewidth=2, label=r'$\\Delta e$')\n",
    "p = ax.set_title(r'$\\Delta e$ and $\\Delta\\tilde{\\omega}$ versus time')\n",
    "p = ax.set_xlabel(r'time $t/\\tau_\\nu$')\n",
    "p = ax.set_ylabel(r'$\\Delta e$ and $\\Delta\\tilde{\\omega}$')\n",
    "p = plt.legend()"
   ]
  },
  {
   "cell_type": "code",
   "execution_count": null,
   "metadata": {},
   "outputs": [],
   "source": [
    "#plot e_prime wt_prime and q versus time\n",
    "x = times_viscous\n",
    "y = e_prime\n",
    "f, ax = plt.subplots(figsize=(10, 6))\n",
    "p = ax.plot(x, y, linestyle='dashed', linewidth=2, label=\"e'\")\n",
    "y = wt_prime\n",
    "p = ax.plot(x, y, linestyle='-', linewidth=2, label=r\"$\\omega'$\")\n",
    "y = q\n",
    "p = ax.plot(x, y, linestyle='-', linewidth=4, label=r'$q$', alpha=0.5)\n",
    "p = ax.plot(x, x*0 + np.sqrt(3.0)/2.0, linestyle='dotted', linewidth=2, label=r\"$\\sqrt{3}/2$\")\n",
    "p = ax.set_title(r\"$e'=a(de/da)$ versus time\")\n",
    "p = ax.set_xlabel(r'time $t/\\tau_\\nu$')\n",
    "p = ax.set_ylabel(r\"$e'$\")\n",
    "p = ax.set_ylim(-0.1, 1)\n",
    "p = plt.legend()"
   ]
  },
  {
   "cell_type": "code",
   "execution_count": null,
   "metadata": {},
   "outputs": [],
   "source": [
    "#plot delta_wt versus time\n",
    "x = times_viscous\n",
    "y = delta_wt\n",
    "f, ax = plt.subplots(figsize=(10, 6))\n",
    "p = ax.plot(x, y, linestyle='-', linewidth=1)\n",
    "p = ax.set_title(r'$\\Delta\\tilde{\\omega}$ versus time')\n",
    "p = ax.set_ylabel(r'$\\Delta\\tilde{\\omega}$    (rad)')\n",
    "p = ax.set_xlabel(r'time $t/\\tau_\\nu$')\n",
    "p = plt.legend()"
   ]
  },
  {
   "cell_type": "code",
   "execution_count": null,
   "metadata": {},
   "outputs": [],
   "source": [
    "#plot surface density vs longitude\n",
    "f, ax = plt.subplots(figsize=(10, 6))\n",
    "t_idxs = (np.array([0.0, 0.005, 0.02, 0.1, 0.18, 0.23, 0.35, 0.45, 0.8])*total_number_of_outputs).astype(int)\n",
    "plot_times = [0.0, 0.5, 2.0, 10.0, 20.0, 100.0]\n",
    "middle_index = number_of_streamlines/2\n",
    "for plot_time in plot_times:\n",
    "    t_idx = np.where(times_viscous >= plot_time)[0][0]\n",
    "    r_now = r[t_idx]\n",
    "    t_now = t[t_idx]\n",
    "    wt_now = wt[t_idx]\n",
    "    delta_r = delta_f(r_now, t_now)\n",
    "    sd_now = surface_density(lambda0, delta_r)\n",
    "    r_middle = r_now[middle_index]\n",
    "    t_middle = t_now[middle_index]\n",
    "    wt_middle = wt_now[middle_index]\n",
    "    sd_middle = sd_now[middle_index]\n",
    "    pidx = r_middle.argmin()\n",
    "    wt_min = wt_middle[pidx]\n",
    "    t_rotating = adjust_angle(t_middle - wt_min)\n",
    "    if (t_idx == 0):\n",
    "        sd_initial = sd_now.mean()\n",
    "    y = sd_middle/sd_initial\n",
    "    x = t_rotating/np.pi\n",
    "    idx = np.argsort(t_rotating)\n",
    "    x = x[idx]\n",
    "    y = y[idx]\n",
    "    N_orbits = times[t_idx]/twopi/1.0e5\n",
    "    lbl = r'$\\tau/\\tau_\\nu$ = ' + str(times_viscous[t_idx])[0:3]\n",
    "    p = ax.plot(x, y, linestyle='-', linewidth=2, label=lbl)\n",
    "p = ax.set_title(r'surface density vs longitude')\n",
    "p = ax.set_xlabel(r'relative longitude $(\\theta - \\tilde{\\omega})/\\pi$')\n",
    "p = ax.set_ylabel(r'surface density $\\sigma/\\sigma_0$')\n",
    "p = plt.legend(loc='center right')"
   ]
  },
  {
   "cell_type": "code",
   "execution_count": null,
   "metadata": {},
   "outputs": [],
   "source": [
    "#plot radial cuts of surface density\n",
    "t_idx = total_number_of_outputs/2\n",
    "r_now = r[t_idx]\n",
    "t_now = t[t_idx]\n",
    "wt_now = wt[t_idx]\n",
    "delta_r = delta_f(r_now, t_now)\n",
    "sd_now = surface_density(lambda0, delta_r)\n",
    "r_middle = r_now[middle_index]\n",
    "#sd(r) along periapse\n",
    "idx = r_middle.argmin()\n",
    "idx_peri = idx\n",
    "r_profile = r_now[:, idx]\n",
    "sd_profile = sd_now[:, idx]\n",
    "r_padded = r_profile.tolist()\n",
    "r_padded = [r_profile[0] - 0.05*(r_profile[1] - r_profile[0])] + r_padded\n",
    "r_padded = r_padded + [r_profile[-1] + 0.05*(r_profile[-1] - r_profile[-2])]\n",
    "r_padded = np.array(r_padded)\n",
    "sd_padded = np.array([0.0] + sd_profile.tolist() + [0.0])\n",
    "f, ax = plt.subplots(figsize=(10, 6))\n",
    "xp = r_padded/a_avg[t_idx]\n",
    "yp = sd_padded/sd_initial\n",
    "p = ax.plot(xp, yp, linestyle='-', linewidth=2, drawstyle='steps-mid', label='periapse')\n",
    "#sd(r) along apoapse\n",
    "idx = r_middle.argmax()\n",
    "idx_apo = idx\n",
    "r_profile = r_now[:, idx]\n",
    "sd_profile = sd_now[:, idx]\n",
    "r_padded = r_profile.tolist()\n",
    "r_padded = [r_profile[0] - 0.05*(r_profile[1] - r_profile[0])] + r_padded\n",
    "r_padded = r_padded + [r_profile[-1] + 0.05*(r_profile[-1] - r_profile[-2])]\n",
    "r_padded = np.array(r_padded)\n",
    "sd_padded = np.array([0.0] + sd_profile.tolist() + [0.0])\n",
    "xp = r_padded/a_avg[t_idx]\n",
    "yp = sd_padded/sd_initial\n",
    "p = ax.plot(xp, yp, linestyle='-', linewidth=2, drawstyle='steps-mid', label='apoapse')\n",
    "#sd(r) along quadrature\n",
    "idx = (idx_peri + idx_apo)/2\n",
    "idx_quad = idx\n",
    "r_profile = r_now[:, idx]\n",
    "sd_profile = sd_now[:, idx]\n",
    "r_padded = r_profile.tolist()\n",
    "r_padded = [r_profile[0] - 0.05*(r_profile[1] - r_profile[0])] + r_padded\n",
    "r_padded = r_padded + [r_profile[-1] + 0.05*(r_profile[-1] - r_profile[-2])]\n",
    "r_padded = np.array(r_padded)\n",
    "sd_padded = np.array([0.0] + sd_profile.tolist() + [0.0])\n",
    "xp = r_padded/a_avg[t_idx]\n",
    "yp = sd_padded/sd_initial\n",
    "p = ax.plot(xp, yp, linestyle='-', linewidth=2, drawstyle='steps-mid', label='quadrature')\n",
    "p = ax.set_title(r'radial surface density profiles')\n",
    "p = ax.set_xlabel(r'radius r/a')\n",
    "p = ax.set_ylabel(r'surface density $\\sigma/\\sigma_0$')\n",
    "p = ax.legend()"
   ]
  },
  {
   "cell_type": "code",
   "execution_count": null,
   "metadata": {},
   "outputs": [],
   "source": [
    "#compute viscous angular momentum flux and luminosity\n",
    "G = -1.0\n",
    "c = -1.0\n",
    "nu_s = shear_viscosity\n",
    "nu_b = bulk_viscosity\n",
    "from fluxes import *\n",
    "viscous_angular_momentum_flux, viscous_angular_momentum_luminosity, rc, tc, wtc = calculate_angular_momentum_flux(\n",
    "    lambda0, G, nu_s, nu_b, c, r, t, vr, vt, wt, fast_gravity)"
   ]
  },
  {
   "cell_type": "code",
   "execution_count": null,
   "metadata": {},
   "outputs": [],
   "source": [
    "#compute gravitational angular momentum flux and luminosity\n",
    "G = G_ring\n",
    "c = -1.0\n",
    "nu_s = -1.0\n",
    "nu_b = -1.0\n",
    "grav_angular_momentum_flux, grav_angular_momentum_luminosity, rc, tc, wtc = calculate_angular_momentum_flux(\n",
    "    lambda0, G, nu_s, nu_b, c, r, t, vr, vt, wt, fast_gravity)"
   ]
  },
  {
   "cell_type": "code",
   "execution_count": null,
   "metadata": {},
   "outputs": [],
   "source": [
    "#viscous angular momentum flux & luminosity for circular ring at time=0\n",
    "a0 = a_avg[0]\n",
    "area = twopi*a0*delta_a[0]\n",
    "sd0 = total_ring_mass/area\n",
    "w0 = Omega(J2, Rp, a0)\n",
    "viscous_flux_circular = 1.5*shear_viscosity*sd0*a0*w0\n",
    "viscous_luminosity_circular = viscous_flux_circular*twopi*a0"
   ]
  },
  {
   "cell_type": "code",
   "execution_count": null,
   "metadata": {},
   "outputs": [],
   "source": [
    "#plot angular momentum luminosity versus time\n",
    "f, ax = plt.subplots(figsize=(10, 6))\n",
    "x = times_viscous\n",
    "y = viscous_angular_momentum_luminosity/viscous_luminosity_circular\n",
    "p = ax.plot(x, y, linestyle='-', linewidth=3, label='viscous')\n",
    "y = grav_angular_momentum_luminosity/viscous_luminosity_circular\n",
    "p = ax.plot(x, y, linestyle='-', linewidth=3, label='gravitational')\n",
    "p = ax.set_title(r'angular momentum luminosity versus time')\n",
    "p = ax.set_ylabel(r'angular momentum luminosity    $T/T_c$')\n",
    "p = ax.set_xlabel(r'time $t/\\tau_\\nu$')\n",
    "p = ax.legend()"
   ]
  },
  {
   "cell_type": "code",
   "execution_count": null,
   "metadata": {},
   "outputs": [],
   "source": [
    "#plot viscous angular monentum flux vs longitude\n",
    "f, ax = plt.subplots(figsize=(10, 6))\n",
    "t_idxs = (np.array([0.0, 0.005, 0.02, 0.1, 0.18, 0.23, 0.35, 0.45, 0.8])*total_number_of_outputs).astype(int)\n",
    "for t_idx in t_idxs:\n",
    "    angular_momentum_flux_now = viscous_angular_momentum_flux[t_idx]\n",
    "    r_now = rc[t_idx]\n",
    "    t_now = tc[t_idx]\n",
    "    wt_now = wtc[t_idx]\n",
    "    pidx = r_now.argmin()\n",
    "    wt_min = wt_now[pidx]\n",
    "    t_rotating = adjust_angle(t_now - wt_min)\n",
    "    y = angular_momentum_flux_now/viscous_flux_circular\n",
    "    x = t_rotating/np.pi\n",
    "    idx = np.argsort(t_rotating)\n",
    "    x = x[idx]\n",
    "    y = y[idx]\n",
    "    N_orbits = times[t_idx]/twopi/1.0e5\n",
    "    lbl = r't = ' + str(N_orbits)[0:4] + r'$\\times10^5$'\n",
    "    p = ax.plot(x, y, linestyle='-', linewidth=2, label=lbl)\n",
    "p = ax.set_title(r'viscous angular momentum flux vs longitude')\n",
    "p = ax.set_xlabel(r'relative longitude $(\\theta - \\tilde{\\omega})/\\pi$')\n",
    "p = ax.set_ylabel(r'viscous angular momentum flux $F/F_c$')\n",
    "p = plt.legend(loc='center right')"
   ]
  },
  {
   "cell_type": "code",
   "execution_count": null,
   "metadata": {},
   "outputs": [],
   "source": [
    "#plot final angular monentum fluxes vs longitude\n",
    "f, ax = plt.subplots(figsize=(10, 6))\n",
    "angular_momentum_flux_now = viscous_angular_momentum_flux[-1]\n",
    "r_now = rc[-1]\n",
    "t_now = tc[-1]\n",
    "wt_now = wtc[-1]\n",
    "pidx = r_now.argmin()\n",
    "wt_min = wt_now[pidx]\n",
    "t_rotating = adjust_angle(t_now - wt_min)\n",
    "y = angular_momentum_flux_now/viscous_flux_circular\n",
    "x = t_rotating/np.pi\n",
    "idx = np.argsort(t_rotating)\n",
    "x = x[idx]\n",
    "y = y[idx]\n",
    "p = ax.plot(x, y, linestyle='-', linewidth=2, label='viscosity')\n",
    "angular_momentum_flux_now = grav_angular_momentum_flux[-1]\n",
    "y = angular_momentum_flux_now/viscous_flux_circular\n",
    "y = y[idx]\n",
    "p = ax.plot(x, y, linestyle='-', linewidth=2, label='gravity')\n",
    "p = ax.set_title(r'angular momentum flux vs longitude')\n",
    "p = ax.set_xlabel(r'relative longitude $(\\theta - \\tilde{\\omega})/\\pi$')\n",
    "p = ax.set_ylabel(r'angular momentum flux $F/F_c$')\n",
    "p = plt.legend(loc='lower right')"
   ]
  },
  {
   "cell_type": "code",
   "execution_count": null,
   "metadata": {},
   "outputs": [],
   "source": [
    "#compute viscous energy flux and luminosity\n",
    "G = -1.0\n",
    "c = -1.0\n",
    "nu_s = shear_viscosity\n",
    "nu_b = bulk_viscosity\n",
    "viscous_energy_flux, viscous_energy_luminosity, rc, tc, wtc = calculate_energy_flux(\n",
    "    lambda0, G, nu_s, nu_b, c, r, t, vr, vt, wt, fast_gravity)\n",
    "viscous_energy_flux_circular = viscous_flux_circular*w0\n",
    "viscous_energy_luminosity_circular = viscous_luminosity_circular*w0"
   ]
  },
  {
   "cell_type": "code",
   "execution_count": null,
   "metadata": {},
   "outputs": [],
   "source": [
    "#compute gravitational energy flux and luminosity\n",
    "G = G_ring\n",
    "c = -1.0\n",
    "nu_s = -1.0\n",
    "nu_b = -1.0\n",
    "grav_energy_flux, grav_energy_luminosity, rc, tc, wtc = calculate_energy_flux(\n",
    "    lambda0, G, nu_s, nu_b, c, r, t, vr, vt, wt, fast_gravity)"
   ]
  },
  {
   "cell_type": "code",
   "execution_count": null,
   "metadata": {},
   "outputs": [],
   "source": [
    "#plot energy luminosity versus time\n",
    "f, ax = plt.subplots(figsize=(10, 6))\n",
    "x = times_viscous\n",
    "y = viscous_energy_luminosity/viscous_energy_luminosity_circular\n",
    "p = ax.plot(x, y, linestyle='-', linewidth=3, label='viscous')\n",
    "y = grav_energy_luminosity/viscous_energy_luminosity_circular\n",
    "p = ax.plot(x, y, linestyle='-', linewidth=3, label='gravitational')\n",
    "p = ax.set_title(r'energy luminosity versus time')\n",
    "p = ax.set_ylabel(r'energy luminosity    $L/L_c$')\n",
    "p = ax.set_xlabel(r'time $t/\\tau_\\nu$')\n",
    "p = ax.legend()"
   ]
  },
  {
   "cell_type": "code",
   "execution_count": null,
   "metadata": {},
   "outputs": [],
   "source": [
    "#plot viscous energy flux vs longitude\n",
    "f, ax = plt.subplots(figsize=(10, 6))\n",
    "t_idxs = (np.array([0.0, 0.005, 0.02, 0.1, 0.18, 0.23, 0.35, 0.45, 0.8])*total_number_of_outputs).astype(int)\n",
    "for t_idx in t_idxs:\n",
    "    energy_flux_now = viscous_energy_flux[t_idx]\n",
    "    r_now = rc[t_idx]\n",
    "    t_now = tc[t_idx]\n",
    "    wt_now = wtc[t_idx]\n",
    "    pidx = r_now.argmin()\n",
    "    wt_min = wt_now[pidx]\n",
    "    t_rotating = adjust_angle(t_now - wt_min)\n",
    "    y = energy_flux_now/viscous_energy_flux_circular\n",
    "    x = t_rotating/np.pi\n",
    "    idx = np.argsort(t_rotating)\n",
    "    x = x[idx]\n",
    "    y = y[idx]\n",
    "    N_orbits = times[t_idx]/twopi/1.0e5\n",
    "    lbl = r't = ' + str(N_orbits)[0:4] + r'$\\times10^5$'\n",
    "    p = ax.plot(x, y, linestyle='-', linewidth=2, label=lbl)\n",
    "p = ax.set_title(r'viscous energy flux vs longitude')\n",
    "p = ax.set_xlabel(r'relative longitude $(\\theta - \\tilde{\\omega})/\\pi$')\n",
    "p = ax.set_ylabel(r'viscous energy flux $F/F_c$')\n",
    "p = plt.legend(loc='center right')"
   ]
  },
  {
   "cell_type": "code",
   "execution_count": null,
   "metadata": {},
   "outputs": [],
   "source": [
    "#plot final energy fluxes vs longitude\n",
    "f, ax = plt.subplots(figsize=(10, 6))\n",
    "energy_flux_now = viscous_energy_flux[-1]\n",
    "r_now = rc[-1]\n",
    "t_now = tc[-1]\n",
    "wt_now = wtc[-1]\n",
    "pidx = r_now.argmin()\n",
    "wt_min = wt_now[pidx]\n",
    "t_rotating = adjust_angle(t_now - wt_min)\n",
    "y = energy_flux_now/viscous_energy_flux_circular\n",
    "x = t_rotating/np.pi\n",
    "idx = np.argsort(t_rotating)\n",
    "x = x[idx]\n",
    "y = y[idx]\n",
    "p = ax.plot(x, y, linestyle='-', linewidth=2, label='viscosity')\n",
    "energy_flux_now = grav_energy_flux[-1]\n",
    "y = energy_flux_now/viscous_energy_flux_circular\n",
    "y = y[idx]\n",
    "p = ax.plot(x, y, linestyle='-', linewidth=2, label='gravity')\n",
    "p = ax.set_title(r'energy flux vs longitude')\n",
    "p = ax.set_xlabel(r'relative longitude $(\\theta - \\tilde{\\omega})/\\pi$')\n",
    "p = ax.set_ylabel(r'energy flux $F/F_c$')\n",
    "p = plt.legend(loc='lower right')"
   ]
  },
  {
   "cell_type": "code",
   "execution_count": null,
   "metadata": {},
   "outputs": [],
   "source": [
    "#plot energy/angular momentum luminosity ratio\n",
    "f, ax = plt.subplots(figsize=(10, 6))\n",
    "x = times_viscous\n",
    "w_avg = Omega(J2, Rp, a_avg)\n",
    "y = viscous_energy_luminosity/(viscous_angular_momentum_luminosity*w_avg)\n",
    "p = ax.plot(x, y, linestyle='-', linewidth=3)\n",
    "p = ax.set_title(r'energy/angular-momentum luminosity ratio versus time')\n",
    "p = ax.set_ylabel(r'energyangular-momentum luminosity    $L_E/L_L$')\n",
    "p = ax.set_xlabel(r'time $t/\\tau_\\nu$')"
   ]
  },
  {
   "cell_type": "code",
   "execution_count": null,
   "metadata": {},
   "outputs": [],
   "source": []
  }
 ],
 "metadata": {
  "kernelspec": {
   "display_name": "Python 2",
   "language": "python",
   "name": "python2"
  },
  "language_info": {
   "codemirror_mode": {
    "name": "ipython",
    "version": 2
   },
   "file_extension": ".py",
   "mimetype": "text/x-python",
   "name": "python",
   "nbconvert_exporter": "python",
   "pygments_lexer": "ipython2",
   "version": "2.7.13"
  }
 },
 "nbformat": 4,
 "nbformat_minor": 2
}
