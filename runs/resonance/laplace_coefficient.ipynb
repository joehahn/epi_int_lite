{
 "cells": [
  {
   "cell_type": "code",
   "execution_count": 1,
   "metadata": {},
   "outputs": [],
   "source": [
    "#laplace_coefficient.ipynb\n",
    "#by Joe Hahn, jmh.datasciences@gmail.com, 20 January 2024.\n",
    "#compute laplace coefficients for m=2 inner Lindblad resonance"
   ]
  },
  {
   "cell_type": "code",
   "execution_count": 2,
   "metadata": {},
   "outputs": [],
   "source": [
    "#integrand of laplace coefficient\n",
    "import numpy as np\n",
    "def integrand(t, m, s, beta):\n",
    "    num = (2/np.pi)*np.cos(m*t)\n",
    "    den = (1 + beta**2 - 2*beta*np.cos(t))**s\n",
    "    intgrnd = num/den\n",
    "    return intgrnd"
   ]
  },
  {
   "cell_type": "code",
   "execution_count": 3,
   "metadata": {},
   "outputs": [],
   "source": [
    "#laplace coefficient\n",
    "def lc(beta, m, s):\n",
    "    from scipy.integrate import quad\n",
    "    lc = quad(integrand, 0, np.pi, args=(m,s,beta))\n",
    "    return lc[0]"
   ]
  },
  {
   "cell_type": "code",
   "execution_count": 4,
   "metadata": {},
   "outputs": [
    {
     "data": {
      "text/plain": [
       "0.3705530411759321"
      ]
     },
     "execution_count": 4,
     "metadata": {},
     "output_type": "execute_result"
    }
   ],
   "source": [
    "#compute laplace coefficient\n",
    "m = 2.0\n",
    "s = 0.5\n",
    "beta = 0.63352678\n",
    "lc(beta, m, s)"
   ]
  },
  {
   "cell_type": "code",
   "execution_count": 5,
   "metadata": {},
   "outputs": [
    {
     "data": {
      "text/plain": [
       "1.4780383666979091"
      ]
     },
     "execution_count": 5,
     "metadata": {},
     "output_type": "execute_result"
    }
   ],
   "source": [
    "#compute derivate wrt beta\n",
    "from scipy.misc import derivative\n",
    "dlc = derivative(lc, beta, dx=1e-8, args=(m,s))\n",
    "dlc"
   ]
  },
  {
   "cell_type": "code",
   "execution_count": 6,
   "metadata": {},
   "outputs": [
    {
     "data": {
      "text/plain": [
       "1.4780424901526534"
      ]
     },
     "execution_count": 6,
     "metadata": {},
     "output_type": "execute_result"
    }
   ],
   "source": [
    "db = 0.001\n",
    "dlc_est = lc(beta + db, m, s) - lc(beta - db, m, s)\n",
    "dlc_est /= 2*db\n",
    "dlc_est"
   ]
  },
  {
   "cell_type": "code",
   "execution_count": null,
   "metadata": {},
   "outputs": [],
   "source": []
  }
 ],
 "metadata": {
  "kernelspec": {
   "display_name": "Python 2",
   "language": "python",
   "name": "python2"
  },
  "language_info": {
   "codemirror_mode": {
    "name": "ipython",
    "version": 2
   },
   "file_extension": ".py",
   "mimetype": "text/x-python",
   "name": "python",
   "nbconvert_exporter": "python",
   "pygments_lexer": "ipython2",
   "version": "2.7.16"
  }
 },
 "nbformat": 4,
 "nbformat_minor": 2
}
