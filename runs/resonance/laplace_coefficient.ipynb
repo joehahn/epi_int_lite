{
 "cells": [
  {
   "cell_type": "code",
   "execution_count": 1,
   "metadata": {},
   "outputs": [],
   "source": [
    "#laplace_coefficient.ipynb\n",
    "#by Joe Hahn, jmh.datasciences@gmail.com, 20 January 2024.\n",
    "#compute laplace coefficients for m=2 inner Lindblad resonance"
   ]
  },
  {
   "cell_type": "code",
   "execution_count": 2,
   "metadata": {},
   "outputs": [],
   "source": [
    "#integrand of laplace coefficient\n",
    "import numpy as np\n",
    "def integrand(t, m, s, beta):\n",
    "    num = (2/np.pi)*np.cos(m*t)\n",
    "    den = (1 + beta**2 - 2*beta*np.cos(t))**s\n",
    "    intgrnd = num/den\n",
    "    return intgrnd"
   ]
  },
  {
   "cell_type": "code",
   "execution_count": 3,
   "metadata": {},
   "outputs": [],
   "source": [
    "#laplace coefficient\n",
    "from scipy.integrate import quad\n",
    "def lc(beta, m, s):\n",
    "    lc = quad(integrand, 0, np.pi, args=(m,s,beta))\n",
    "    return lc[0]"
   ]
  },
  {
   "cell_type": "code",
   "execution_count": 4,
   "metadata": {},
   "outputs": [],
   "source": [
    "#derivative of lc wrt beta\n",
    "from scipy.misc import derivative\n",
    "def dlc(beta, m, s):\n",
    "    return derivative(lc, beta, dx=1e-8, args=(m,s))"
   ]
  },
  {
   "cell_type": "code",
   "execution_count": 5,
   "metadata": {},
   "outputs": [
    {
     "data": {
      "text/plain": [
       "0.3706184400476837"
      ]
     },
     "execution_count": 5,
     "metadata": {},
     "output_type": "execute_result"
    }
   ],
   "source": [
    "#compute laplace coefficient\n",
    "m = 2.0\n",
    "s = 0.5\n",
    "beta = 0.6335710236913903\n",
    "lc(beta, m, s)"
   ]
  },
  {
   "cell_type": "code",
   "execution_count": 6,
   "metadata": {},
   "outputs": [
    {
     "data": {
      "text/plain": [
       "1.4782643609212442"
      ]
     },
     "execution_count": 6,
     "metadata": {},
     "output_type": "execute_result"
    }
   ],
   "source": [
    "#compute derivate wrt beta\n",
    "dlc(beta, m, s)"
   ]
  },
  {
   "cell_type": "code",
   "execution_count": 7,
   "metadata": {},
   "outputs": [
    {
     "data": {
      "text/plain": [
       "1.4782684814403924"
      ]
     },
     "execution_count": 7,
     "metadata": {},
     "output_type": "execute_result"
    }
   ],
   "source": [
    "#use confirm via finite differences\n",
    "db = 0.001\n",
    "dlc_est = lc(beta + db, m, s) - lc(beta - db, m, s)\n",
    "dlc_est /= 2*db\n",
    "dlc_est"
   ]
  },
  {
   "cell_type": "code",
   "execution_count": 8,
   "metadata": {},
   "outputs": [
    {
     "name": "stdout",
     "output_type": "stream",
     "text": [
      "beta_arr =  [[0.63357102 0.73357102 0.83357102]\n",
      " [0.63357102 0.73357102 0.83357102]]\n",
      "beta_arr.shape =  (2, 3)\n",
      "lc_arr.shape =  (2, 3)\n"
     ]
    },
    {
     "data": {
      "text/plain": [
       "array([[0.37061844, 0.54923135, 0.8265513 ],\n",
       "       [0.37061844, 0.54923135, 0.8265513 ]])"
      ]
     },
     "execution_count": 8,
     "metadata": {},
     "output_type": "execute_result"
    }
   ],
   "source": [
    "#use np.vectorize to compute laplace coefficient across numpy array\n",
    "betas = [[beta, beta + 0.1, beta + 0.2], [beta, beta + 0.1, beta + 0.2]]\n",
    "beta_arr = np.array(betas)\n",
    "print 'beta_arr = ', beta_arr\n",
    "print 'beta_arr.shape = ', beta_arr.shape\n",
    "lc_vectorized = np.vectorize(lc)\n",
    "lc_arr =  lc_vectorized(beta_arr, m, s)\n",
    "print 'lc_arr.shape = ', lc_arr.shape\n",
    "lc_arr"
   ]
  },
  {
   "cell_type": "code",
   "execution_count": 9,
   "metadata": {},
   "outputs": [
    {
     "data": {
      "text/plain": [
       "array([[1.47826436, 2.16063624, 3.60322984],\n",
       "       [1.47826436, 2.16063624, 3.60322984]])"
      ]
     },
     "execution_count": 9,
     "metadata": {},
     "output_type": "execute_result"
    }
   ],
   "source": [
    "dlc_vectorized = np.vectorize(dlc)\n",
    "dlc_arr =  dlc_vectorized(beta_arr, m, s)\n",
    "dlc_arr"
   ]
  },
  {
   "cell_type": "code",
   "execution_count": null,
   "metadata": {},
   "outputs": [],
   "source": []
  }
 ],
 "metadata": {
  "kernelspec": {
   "display_name": "Python 2",
   "language": "python",
   "name": "python2"
  },
  "language_info": {
   "codemirror_mode": {
    "name": "ipython",
    "version": 2
   },
   "file_extension": ".py",
   "mimetype": "text/x-python",
   "name": "python",
   "nbconvert_exporter": "python",
   "pygments_lexer": "ipython2",
   "version": "2.7.16"
  }
 },
 "nbformat": 4,
 "nbformat_minor": 2
}
