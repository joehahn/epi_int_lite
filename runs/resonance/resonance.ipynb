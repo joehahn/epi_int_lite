{
 "cells": [
  {
   "cell_type": "code",
   "execution_count": 1,
   "metadata": {},
   "outputs": [],
   "source": [
    "#resonance.ipynb\n",
    "#by Joe Hahn, jmh.datasciences@gmail.com, 20 January 2024.\n",
    "#plot motion of non-interacting particles at m=2 inner Lindblad resonance"
   ]
  },
  {
   "cell_type": "code",
   "execution_count": 3,
   "metadata": {},
   "outputs": [
    {
     "name": "stdout",
     "output_type": "stream",
     "text": [
      "r.shape =  (101, 32, 64)\n",
      "total_ring_mass =  3.45419683059e-10\n",
      "shear_viscosity =  -1e-13\n",
      "bulk_viscosity =  -1e-13\n",
      "initial_orbits =  {'shape': 'circular'}\n",
      "confine_inner_edge =  False\n",
      "confine_outer_edge =  False\n",
      "satellite =  {'dlc': 1.0, 'r': 1.578325914739137, 'mass': 0.0, 't': 0.0, 'time_grow': 5000.0, 'm': 2, 'lc': 1.0, 'mass_final': 6.5969e-08}\n",
      "e.min() =  0.0\n",
      "e.max() =  2.3619537668265007e-06\n",
      "execution time (min) =  0.0333333333333\n",
      "monitor =  {'current_time': 1705805867, 'streamline_crossing_timestep': None, 'start_time': 1705805865, 'modified_params': None, 'nan_timestep': None, 'current_timestep': 1000, 'self_interacting': False}\n"
     ]
    }
   ],
   "source": [
    "#restore output\n",
    "from helper_fns import *\n",
    "execfile('inputs.py')\n",
    "r, t, vr, vt, times, monitor = restore_output(output_folder)\n",
    "a, e, wt, M = coords2elem(J2, Rp, r, t, vr, vt)\n",
    "print 'r.shape = ', r.shape\n",
    "print 'total_ring_mass = ', total_ring_mass\n",
    "print 'shear_viscosity = ', shear_viscosity\n",
    "print 'bulk_viscosity = ', bulk_viscosity\n",
    "print 'initial_orbits = ', initial_orbits\n",
    "print 'confine_inner_edge = ', confine_inner_edge\n",
    "print 'confine_outer_edge = ', confine_outer_edge\n",
    "print 'satellite = ', satellite\n",
    "print 'e.min() = ', e.min()\n",
    "print 'e.max() = ', e.max()\n",
    "print 'execution time (min) = ', (monitor['current_time'] - monitor['start_time'])/60.0\n",
    "print 'monitor = ', monitor"
   ]
  },
  {
   "cell_type": "code",
   "execution_count": null,
   "metadata": {},
   "outputs": [],
   "source": []
  }
 ],
 "metadata": {
  "kernelspec": {
   "display_name": "Python 2",
   "language": "python",
   "name": "python2"
  },
  "language_info": {
   "codemirror_mode": {
    "name": "ipython",
    "version": 2
   },
   "file_extension": ".py",
   "mimetype": "text/x-python",
   "name": "python",
   "nbconvert_exporter": "python",
   "pygments_lexer": "ipython2",
   "version": "2.7.16"
  }
 },
 "nbformat": 4,
 "nbformat_minor": 2
}
