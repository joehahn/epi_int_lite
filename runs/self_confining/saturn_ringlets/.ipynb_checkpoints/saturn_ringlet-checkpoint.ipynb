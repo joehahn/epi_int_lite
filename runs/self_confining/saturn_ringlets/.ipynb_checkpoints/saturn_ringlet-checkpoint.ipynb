{
 "cells": [
  {
   "cell_type": "code",
   "execution_count": 1,
   "metadata": {},
   "outputs": [],
   "source": [
    "#saturn_ringlets.ipynb\n",
    "#by Joe Hahn, jmh.datasciences@gmail.com, 22 January 2022.\n",
    "#plot ringlet and satellite orbit elements"
   ]
  },
  {
   "cell_type": "code",
   "execution_count": 2,
   "metadata": {},
   "outputs": [],
   "source": [
    "#prep plots\n",
    "%matplotlib inline\n",
    "import seaborn as sns\n",
    "import matplotlib.pyplot as plt\n",
    "color_seq = plt.rcParams['axes.prop_cycle'].by_key()['color']\n",
    "from matplotlib import rcParams\n",
    "import numpy as np\n",
    "import pandas as pd"
   ]
  },
  {
   "cell_type": "code",
   "execution_count": 3,
   "metadata": {},
   "outputs": [
    {
     "data": {
      "text/plain": [
       "{'R_planet_km': 60330.0,\n",
       " 'a_km': 77878.7,\n",
       " 'ae_inner_km': 17.39,\n",
       " 'ae_outer_km': 27.2,\n",
       " 'da_km': 23.1,\n",
       " 'e_inner': 0.00022329597181257522,\n",
       " 'e_mean': 0.0002862785331547651,\n",
       " 'e_outer': 0.0003492610944969549,\n",
       " 'i': 0.0,\n",
       " 'planet': 'Saturn',\n",
       " 'q': 0.42467532467532454,\n",
       " 'ringlet': 'titan'}"
      ]
     },
     "execution_count": 3,
     "metadata": {},
     "output_type": "execute_result"
    }
   ],
   "source": [
    "#titan ringlet: 23-km-wide ringlet is 170-km-wide Colombo gap in C ring,  \n",
    "#data from Nicholson et al, 2014, Icarus, 241, 373-396,\n",
    "#https://ui.adsabs.harvard.edu/abs/2014Icar..241..373N/abstract,\n",
    "#https://sci-hub.ru/10.1016/j.icarus.2014.06.024\n",
    "#q~0.4\n",
    "d = {'a_km':77878.7, 'ae_inner_km':17.39, 'ae_outer_km':27.2, 'da_km':23.1, 'i':0.0, 'planet':'Saturn', \n",
    "    'R_planet_km':60330.0, 'ringlet':'titan'}\n",
    "d['e_inner'] = d['ae_inner_km']/d['a_km']\n",
    "d['e_outer'] = d['ae_outer_km']/d['a_km']\n",
    "d['e_mean'] = (d['e_inner'] + d['e_outer'])/2\n",
    "d['q'] = d['a_km']*(d['e_outer'] - d['e_inner'])/d['da_km']\n",
    "titan = d\n",
    "titan"
   ]
  },
  {
   "cell_type": "code",
   "execution_count": 4,
   "metadata": {},
   "outputs": [
    {
     "data": {
      "text/plain": [
       "{'R_planet_km': 60330.0,\n",
       " 'a_km': 87510.0,\n",
       " 'ae_inner_km': 18.9,\n",
       " 'ae_outer_km': 58.0,\n",
       " 'da_km': 59.0,\n",
       " 'e_inner': 0.00021597531710661636,\n",
       " 'e_mean': 0.0004393783567592275,\n",
       " 'e_outer': 0.0006627813964118387,\n",
       " 'i': 0.0,\n",
       " 'planet': 'Saturn',\n",
       " 'q': 0.6627118644067798,\n",
       " 'ringlet': 'maxwell'}"
      ]
     },
     "execution_count": 4,
     "metadata": {},
     "output_type": "execute_result"
    }
   ],
   "source": [
    "#maxwell ringlet: 59-km-wide ringlet in 260-km-wide gap in C ring,  \n",
    "#data from Nicholson et al, 2014, Icarus, 241, 373-396,\n",
    "#https://ui.adsabs.harvard.edu/abs/2014Icar..241..373N/abstract,\n",
    "#https://sci-hub.ru/10.1016/j.icarus.2014.06.024\n",
    "#q~0.7\n",
    "d = {'a_km':87510.0, 'ae_inner_km':18.9, 'ae_outer_km':58.0, 'da_km':59.0, 'i':0.0, 'planet':'Saturn', \n",
    "    'R_planet_km':60330.0, 'ringlet':'maxwell'}\n",
    "d['e_inner'] = d['ae_inner_km']/d['a_km']\n",
    "d['e_outer'] = d['ae_outer_km']/d['a_km']\n",
    "d['e_mean'] = (d['e_inner'] + d['e_outer'])/2\n",
    "d['q'] = d['a_km']*(d['e_outer'] - d['e_inner'])/d['da_km']\n",
    "maxwell = d\n",
    "maxwell"
   ]
  },
  {
   "cell_type": "code",
   "execution_count": 5,
   "metadata": {},
   "outputs": [],
   "source": [
    "##bond ringlet: circular 17-km-wide ringlet in 37-km-wide gap in C ring near Mimas & Prometheus resonances\n",
    "##data from https://sci-hub.ru/10.1016/j.icarus.2014.06.024,\n",
    "#q~0\n",
    "#d = {'a_inner_km':88701.89, 'a_outer_km':88719.24, 'ae_inner_km':0.17, 'ae_outer_km':0.0, 'i':0.0, \n",
    "#    'planet':'Saturn', 'R_planet_km':60330.0}\n",
    "#d['a_km'] = (d['a_inner_km'] + d['a_outer_km'])/2\n",
    "#d['da_km'] = d['a_outer_km'] - d['a_inner_km']\n",
    "#d['e_inner'] = d['ae_inner_km']/d['a_km']\n",
    "#d['e_outer'] = d['ae_outer_km']/d['a_km']\n",
    "#d['e_mean'] = (d['e_inner'] + d['e_outer'])/2\n",
    "#d['q'] = d['a_km']*(d['e_outer'] - d['e_inner'])/d['da_km']\n",
    "#bond = d\n",
    "#bond"
   ]
  },
  {
   "cell_type": "code",
   "execution_count": 6,
   "metadata": {},
   "outputs": [],
   "source": [
    "#dawes 'embedded' ringlet: 62-km-wide embedded ringlet at inner edge of 20-km-wide gap in C ring\n",
    "#data from https://sci-hub.ru/10.1016/j.icarus.2014.06.024,\n",
    "#outer edge is uncertain\n",
    "##q~0.1\n",
    "#d = {'a_inner_km':90137.87, 'a_outer_km':90200.38, 'ae_inner_km':1.35, 'ae_outer_km':6.10, 'i':0.0, \n",
    "#    'planet':'Saturn', 'R_planet_km':60330.0}\n",
    "#d['a_km'] = (d['a_inner_km'] + d['a_outer_km'])/2\n",
    "#d['da_km'] = d['a_outer_km'] - d['a_inner_km']\n",
    "#d['e_inner'] = d['ae_inner_km']/d['a_km']\n",
    "#d['e_outer'] = d['ae_outer_km']/d['a_km']\n",
    "#d['e_mean'] = (d['e_inner'] + d['e_outer'])/2\n",
    "#d['q'] = d['a_km']*(d['e_outer'] - d['e_inner'])/d['da_km']\n",
    "#dawes = d\n",
    "#dawes"
   ]
  },
  {
   "cell_type": "code",
   "execution_count": 7,
   "metadata": {},
   "outputs": [],
   "source": [
    "##huygens ringlet in 360-km-wide huygens gap near outer edge of B ring i think, is disturbed, has low q\n",
    "##data from https://sci-hub.ru/10.1016/j.icarus.2016.03.017,\n",
    "##French et al 2016, Icarus, 274, 131–162\n",
    "##q~0.01\n",
    "#d = {'a_inner_km':117805.55, 'a_outer_km':117823.65, 'ae_inner_km':27.81, 'ae_outer_km':28.03, 'asini_km':0.6,\n",
    "#    'planet':'Saturn', 'R_planet_km':60330.0}\n",
    "#d['a_km'] = (d['a_inner_km'] + d['a_outer_km'])/2\n",
    "#d['da_km'] = d['a_outer_km'] - d['a_inner_km']\n",
    "#d['e_inner'] = d['ae_inner_km']/d['a_inner_km']\n",
    "#d['e_outer'] = d['ae_outer_km']/d['a_outer_km']\n",
    "#d['e_mean'] = (d['e_inner'] + d['e_outer'])/2\n",
    "#d['q'] = d['a_km']*(d['e_outer'] - d['e_inner'])/d['da_km']\n",
    "#huygens = d\n",
    "#huygens"
   ]
  },
  {
   "cell_type": "code",
   "execution_count": 8,
   "metadata": {},
   "outputs": [],
   "source": [
    "##strange ringlet in 360-km-wide huygens gap near outer edge of B ring i think, \n",
    "##data from https://sci-hub.ru/10.1016/j.icarus.2016.03.017,\n",
    "##French et al 2016, Icarus, 274, 131–162\n",
    "##q~0.01\n",
    "#d = {'a_inner_km':117805.55, 'a_outer_km':117823.65, 'ae_inner_km':27.81, 'ae_outer_km':28.03, 'asini_km':7.1,\n",
    "#    'planet':'Saturn', 'R_planet_km':60330.0}\n",
    "#d['a_km'] = (d['a_inner_km'] + d['a_outer_km'])/2\n",
    "#d['da_km'] = d['a_outer_km'] - d['a_inner_km']\n",
    "#d['e_inner'] = d['ae_inner_km']/d['a_inner_km']\n",
    "#d['e_outer'] = d['ae_outer_km']/d['a_outer_km']\n",
    "#d['e_mean'] = (d['e_inner'] + d['e_outer'])/2\n",
    "#d['q'] = d['a_km']*(d['e_outer'] - d['e_inner'])/d['da_km']\n",
    "#strange = d\n",
    "#strange"
   ]
  },
  {
   "cell_type": "code",
   "execution_count": 9,
   "metadata": {},
   "outputs": [],
   "source": [
    "##laplace ringlet in XXX-km-wide X gap near\n",
    "##data from https://sci-hub.ru/10.1016/j.icarus.2016.03.017\n",
    "##French et al 2016, Icarus, 274, 131–162,\n",
    "##q~0.04\n",
    "#d = {'a_inner_km':120036.53, 'a_outer_km':120077.75, 'ae_inner_km':1.19, 'ae_outer_km':2.79, 'asini_km':7.1,\n",
    "#    'planet':'Saturn', 'R_planet_km':60330.0}\n",
    "#d['a_km'] = (d['a_inner_km'] + d['a_outer_km'])/2\n",
    "#d['da_km'] = d['a_outer_km'] - d['a_inner_km']\n",
    "#d['e_inner'] = d['ae_inner_km']/d['a_inner_km']\n",
    "#d['e_outer'] = d['ae_outer_km']/d['a_outer_km']\n",
    "#d['e_mean'] = (d['e_inner'] + d['e_outer'])/2\n",
    "#d['q'] = d['a_km']*(d['e_outer'] - d['e_inner'])/d['da_km']\n",
    "#laplace = d\n",
    "#laplace"
   ]
  },
  {
   "cell_type": "code",
   "execution_count": 10,
   "metadata": {},
   "outputs": [
    {
     "data": {
      "text/plain": [
       "{'R_planet_km': 26145.0,\n",
       " 'a_km': 44758.0,\n",
       " 'da_km': 7.5,\n",
       " 'de': 5.8e-05,\n",
       " 'e_mean': 0.00078,\n",
       " 'planet': 'Uranus',\n",
       " 'q': 0.3461285333333333,\n",
       " 'ringlet': 'alpha'}"
      ]
     },
     "execution_count": 10,
     "metadata": {},
     "output_type": "execute_result"
    }
   ],
   "source": [
    "#alpha ringlet: 8-km-wide ringlet at Uranus\n",
    "#data from https://adsabs.harvard.edu/full/1984prin.conf...25E, \n",
    "#q~0.3\n",
    "d = {'a_km':44758.0, 'da_km':7.5, 'e_mean':7.8e-4, 'de':5.8e-5, 'planet':'Uranus', 'R_planet_km':26145.0,\n",
    "    'ringlet':'alpha'}\n",
    "d['q'] = d['a_km']*d['de']/d['da_km']\n",
    "alpha = d\n",
    "alpha"
   ]
  },
  {
   "cell_type": "code",
   "execution_count": 11,
   "metadata": {},
   "outputs": [
    {
     "data": {
      "text/plain": [
       "{'R_planet_km': 26145.0,\n",
       " 'a_km': 45701.0,\n",
       " 'da_km': 7.8,\n",
       " 'de': 6e-05,\n",
       " 'e_mean': 0.00043,\n",
       " 'planet': 'Uranus',\n",
       " 'q': 0.35154615384615384,\n",
       " 'ringlet': 'beta'}"
      ]
     },
     "execution_count": 11,
     "metadata": {},
     "output_type": "execute_result"
    }
   ],
   "source": [
    "#beta ringlet: 8-km-wide ringlet at Uranus\n",
    "#data from https://adsabs.harvard.edu/full/1984prin.conf...25E, \n",
    "#q~0.3\n",
    "d = {'a_km':45701.0, 'da_km':7.8, 'e_mean':4.3e-4, 'de':6.0e-5, 'planet':'Uranus', 'R_planet_km':26145.0,\n",
    "    'ringlet':'beta'}\n",
    "d['q'] = d['a_km']*d['de']/d['da_km']\n",
    "beta = d\n",
    "beta"
   ]
  },
  {
   "cell_type": "code",
   "execution_count": 12,
   "metadata": {},
   "outputs": [
    {
     "data": {
      "text/plain": [
       "{'R_planet_km': 26145.0,\n",
       " 'a_km': 51188.0,\n",
       " 'da_km': 58.0,\n",
       " 'de': 0.00074,\n",
       " 'e_mean': 0.00794,\n",
       " 'planet': 'Uranus',\n",
       " 'q': 0.653088275862069,\n",
       " 'ringlet': 'epsilon'}"
      ]
     },
     "execution_count": 12,
     "metadata": {},
     "output_type": "execute_result"
    }
   ],
   "source": [
    "#epsilon ringlet: 58-km-wide ringlet at Uranus\n",
    "#data from https://adsabs.harvard.edu/full/1984prin.conf...25E, q\n",
    "#~0.6\n",
    "d = {'a_km':51188.0, 'da_km':58.0, 'e_mean':7.94e-3, 'de':7.4e-4, 'planet':'Uranus', 'R_planet_km':26145.0,\n",
    "    'ringlet':'epsilon'}\n",
    "d['q'] = d['a_km']*d['de']/d['da_km']\n",
    "epsilon = d\n",
    "epsilon"
   ]
  },
  {
   "cell_type": "code",
   "execution_count": 13,
   "metadata": {},
   "outputs": [
    {
     "data": {
      "text/html": [
       "<div>\n",
       "<style scoped>\n",
       "    .dataframe tbody tr th:only-of-type {\n",
       "        vertical-align: middle;\n",
       "    }\n",
       "\n",
       "    .dataframe tbody tr th {\n",
       "        vertical-align: top;\n",
       "    }\n",
       "\n",
       "    .dataframe thead th {\n",
       "        text-align: right;\n",
       "    }\n",
       "</style>\n",
       "<table border=\"1\" class=\"dataframe\">\n",
       "  <thead>\n",
       "    <tr style=\"text-align: right;\">\n",
       "      <th></th>\n",
       "      <th>R_planet_km</th>\n",
       "      <th>a_km</th>\n",
       "      <th>ae_inner_km</th>\n",
       "      <th>ae_outer_km</th>\n",
       "      <th>da_km</th>\n",
       "      <th>de</th>\n",
       "      <th>e_inner</th>\n",
       "      <th>e_mean</th>\n",
       "      <th>e_outer</th>\n",
       "      <th>i</th>\n",
       "      <th>planet</th>\n",
       "      <th>q</th>\n",
       "      <th>ringlet</th>\n",
       "    </tr>\n",
       "  </thead>\n",
       "  <tbody>\n",
       "    <tr>\n",
       "      <th>0</th>\n",
       "      <td>60330.0</td>\n",
       "      <td>77878.7</td>\n",
       "      <td>17.39</td>\n",
       "      <td>27.2</td>\n",
       "      <td>23.1</td>\n",
       "      <td>NaN</td>\n",
       "      <td>0.000223</td>\n",
       "      <td>0.000286</td>\n",
       "      <td>0.000349</td>\n",
       "      <td>0.0</td>\n",
       "      <td>Saturn</td>\n",
       "      <td>0.424675</td>\n",
       "      <td>titan</td>\n",
       "    </tr>\n",
       "    <tr>\n",
       "      <th>1</th>\n",
       "      <td>60330.0</td>\n",
       "      <td>87510.0</td>\n",
       "      <td>18.90</td>\n",
       "      <td>58.0</td>\n",
       "      <td>59.0</td>\n",
       "      <td>NaN</td>\n",
       "      <td>0.000216</td>\n",
       "      <td>0.000439</td>\n",
       "      <td>0.000663</td>\n",
       "      <td>0.0</td>\n",
       "      <td>Saturn</td>\n",
       "      <td>0.662712</td>\n",
       "      <td>maxwell</td>\n",
       "    </tr>\n",
       "    <tr>\n",
       "      <th>2</th>\n",
       "      <td>26145.0</td>\n",
       "      <td>44758.0</td>\n",
       "      <td>NaN</td>\n",
       "      <td>NaN</td>\n",
       "      <td>7.5</td>\n",
       "      <td>0.000058</td>\n",
       "      <td>NaN</td>\n",
       "      <td>0.000780</td>\n",
       "      <td>NaN</td>\n",
       "      <td>NaN</td>\n",
       "      <td>Uranus</td>\n",
       "      <td>0.346129</td>\n",
       "      <td>alpha</td>\n",
       "    </tr>\n",
       "    <tr>\n",
       "      <th>3</th>\n",
       "      <td>26145.0</td>\n",
       "      <td>45701.0</td>\n",
       "      <td>NaN</td>\n",
       "      <td>NaN</td>\n",
       "      <td>7.8</td>\n",
       "      <td>0.000060</td>\n",
       "      <td>NaN</td>\n",
       "      <td>0.000430</td>\n",
       "      <td>NaN</td>\n",
       "      <td>NaN</td>\n",
       "      <td>Uranus</td>\n",
       "      <td>0.351546</td>\n",
       "      <td>beta</td>\n",
       "    </tr>\n",
       "    <tr>\n",
       "      <th>4</th>\n",
       "      <td>26145.0</td>\n",
       "      <td>51188.0</td>\n",
       "      <td>NaN</td>\n",
       "      <td>NaN</td>\n",
       "      <td>58.0</td>\n",
       "      <td>0.000740</td>\n",
       "      <td>NaN</td>\n",
       "      <td>0.007940</td>\n",
       "      <td>NaN</td>\n",
       "      <td>NaN</td>\n",
       "      <td>Uranus</td>\n",
       "      <td>0.653088</td>\n",
       "      <td>epsilon</td>\n",
       "    </tr>\n",
       "  </tbody>\n",
       "</table>\n",
       "</div>"
      ],
      "text/plain": [
       "   R_planet_km     a_km  ae_inner_km  ae_outer_km  da_km        de   e_inner  \\\n",
       "0      60330.0  77878.7        17.39         27.2   23.1       NaN  0.000223   \n",
       "1      60330.0  87510.0        18.90         58.0   59.0       NaN  0.000216   \n",
       "2      26145.0  44758.0          NaN          NaN    7.5  0.000058       NaN   \n",
       "3      26145.0  45701.0          NaN          NaN    7.8  0.000060       NaN   \n",
       "4      26145.0  51188.0          NaN          NaN   58.0  0.000740       NaN   \n",
       "\n",
       "     e_mean   e_outer    i  planet         q  ringlet  \n",
       "0  0.000286  0.000349  0.0  Saturn  0.424675    titan  \n",
       "1  0.000439  0.000663  0.0  Saturn  0.662712  maxwell  \n",
       "2  0.000780       NaN  NaN  Uranus  0.346129    alpha  \n",
       "3  0.000430       NaN  NaN  Uranus  0.351546     beta  \n",
       "4  0.007940       NaN  NaN  Uranus  0.653088  epsilon  "
      ]
     },
     "execution_count": 13,
     "metadata": {},
     "output_type": "execute_result"
    }
   ],
   "source": [
    "data = [titan, maxwell, alpha, beta, epsilon]\n",
    "df_ringlets = pd.DataFrame(data)\n",
    "df_ringlets"
   ]
  },
  {
   "cell_type": "code",
   "execution_count": 14,
   "metadata": {},
   "outputs": [
    {
     "data": {
      "image/png": "[encoded data removed]",
      "text/plain": [
       "<Figure size 720x432 with 1 Axes>"
      ]
     },
     "metadata": {},
     "output_type": "display_data"
    }
   ],
   "source": [
    "#plot \n",
    "df = df_ringlets\n",
    "sns.set(font_scale=1.5, font='DejaVu Sans')\n",
    "f, ax = plt.subplots(figsize=(10, 6))\n",
    "idx = (df.planet == 'Saturn')\n",
    "dfs = df[idx]\n",
    "xp = dfs.a_km/dfs.R_planet_km\n",
    "yp = dfs.q\n",
    "p = ax.plot(xp, yp, linestyle='dashed', marker = 'o', linewidth=1, alpha=1, label='Saturn')\n",
    "idx = (df.planet == 'Uranus')\n",
    "dfs = df[idx]\n",
    "xp = dfs.a_km/dfs.R_planet_km\n",
    "yp = dfs.q\n",
    "p = ax.plot(xp, yp, linestyle='dashed', marker = 'o', linewidth=1, alpha=1, label='Uranus')\n",
    "p = ax.set_xlabel(r'a/R_p')\n",
    "p = ax.set_ylabel('q')\n",
    "#p = ax.set_xlim(-2, 102)\n",
    "p = ax.legend()\n",
    "#plt.savefig('figs/a_nominal.pdf', bbox_inches='tight')"
   ]
  },
  {
   "cell_type": "code",
   "execution_count": null,
   "metadata": {},
   "outputs": [],
   "source": []
  }
 ],
 "metadata": {
  "kernelspec": {
   "display_name": "Python 2",
   "language": "python",
   "name": "python2"
  },
  "language_info": {
   "codemirror_mode": {
    "name": "ipython",
    "version": 2
   },
   "file_extension": ".py",
   "mimetype": "text/x-python",
   "name": "python",
   "nbconvert_exporter": "python",
   "pygments_lexer": "ipython2",
   "version": "2.7.16"
  }
 },
 "nbformat": 4,
 "nbformat_minor": 2
}
