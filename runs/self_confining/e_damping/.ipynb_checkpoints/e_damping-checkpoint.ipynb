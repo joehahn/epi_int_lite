{
 "cells": [
  {
   "cell_type": "code",
   "execution_count": 1,
   "metadata": {},
   "outputs": [],
   "source": [
    "#e_damping.ipynb\n",
    "#by Joe Hahn, jmh.datasciences@gmail.com, 25 August 2021.\n",
    "#confirm that integral I(e_prime)=1"
   ]
  },
  {
   "cell_type": "code",
   "execution_count": 2,
   "metadata": {},
   "outputs": [],
   "source": [
    "#prep plots\n",
    "%matplotlib inline\n",
    "import seaborn as sns\n",
    "import matplotlib.pyplot as plt\n",
    "color_seq = plt.rcParams['axes.prop_cycle'].by_key()['color']\n",
    "from matplotlib import rcParams\n",
    "import numpy as np\n",
    "import pandas as pd"
   ]
  },
  {
   "cell_type": "code",
   "execution_count": 3,
   "metadata": {},
   "outputs": [],
   "source": [
    "#define integrand and integral I(ep)=integral of integrand from phi=0..Pi\n",
    "def integrand(phi, ep):\n",
    "    num = 1 - (4.0/3.0)*ep*np.cos(phi)\n",
    "    den = 1 - ep*np.cos(phi)\n",
    "    itg = (num/den)**2\n",
    "    itg = itg/np.pi\n",
    "    return itg\n",
    "def I_ep(ep):\n",
    "    from scipy.integrate import quad\n",
    "    integral = quad(integrand, 0, np.pi, args=(ep))\n",
    "    return integral[0]"
   ]
  },
  {
   "cell_type": "code",
   "execution_count": 4,
   "metadata": {},
   "outputs": [
    {
     "data": {
      "text/plain": [
       "array([0.5      , 0.51     , 0.52     , 0.53     , 0.54     , 0.55     ,\n",
       "       0.56     , 0.57     , 0.58     , 0.59     , 0.6      , 0.61     ,\n",
       "       0.62     , 0.63     , 0.64     , 0.65     , 0.66     , 0.67     ,\n",
       "       0.68     , 0.69     , 0.7      , 0.71     , 0.72     , 0.73     ,\n",
       "       0.74     , 0.75     , 0.76     , 0.77     , 0.78     , 0.79     ,\n",
       "       0.8      , 0.81     , 0.82     , 0.83     , 0.84     , 0.85     ,\n",
       "       0.86     , 0.8660254, 0.87     , 0.88     , 0.89     , 0.9      ,\n",
       "       0.91     , 0.92     , 0.93     , 0.94     , 0.95     , 0.96     ,\n",
       "       0.97     , 0.98     , 0.99     ])"
      ]
     },
     "execution_count": 4,
     "metadata": {},
     "output_type": "execute_result"
    }
   ],
   "source": [
    "#generate array of e_primes\n",
    "e_primes = np.sort(np.append(np.linspace(0.5, 0.99, num=50), [np.sqrt(3)/2]))\n",
    "e_primes"
   ]
  },
  {
   "cell_type": "code",
   "execution_count": 5,
   "metadata": {},
   "outputs": [],
   "source": [
    "#compute I_ep for all e_primes\n",
    "I_eps = []\n",
    "for ep in e_primes:\n",
    "    I_eps += [I_ep(ep)]\n",
    "I_eps = np.array(I_eps)"
   ]
  },
  {
   "cell_type": "code",
   "execution_count": 6,
   "metadata": {},
   "outputs": [
    {
     "name": "stdout",
     "output_type": "stream",
     "text": [
      "('x = ', 0.8660254037844386)\n",
      "('y = ', 0.8888888888889426)\n"
     ]
    },
    {
     "data": {
      "image/png": "[encoded data removed]",
      "text/plain": [
       "<Figure size 720x432 with 1 Axes>"
      ]
     },
     "metadata": {},
     "output_type": "display_data"
    }
   ],
   "source": [
    "#plot I(e_prime) vs e_prime versus time\n",
    "x = e_primes\n",
    "y = I_eps\n",
    "color = color_seq[0]\n",
    "sns.set(font_scale=1.5, font='DejaVu Sans')\n",
    "f, ax = plt.subplots(figsize=(10, 6))\n",
    "p = ax.plot(x, y, linestyle='-', linewidth=2, color=color, label='')\n",
    "idx = (e_primes > 0.866) & (e_primes < 0.87)\n",
    "x = e_primes[idx]\n",
    "y = I_eps[idx]\n",
    "print ('x = ', x[0])\n",
    "print ('y = ', y[0])\n",
    "p = ax.plot(x, y, linestyle='none', marker='o', color=color, markersize=7, label=r\"$e'=\\sqrt{3}/2$\")\n",
    "p = ax.set_ylabel(\"I(e')\")\n",
    "p = ax.set_xlabel(\"e'\")\n",
    "p = ax.set_ylim(0.65, 1.65)\n",
    "p = ax.legend()\n",
    "#plt.savefig('figs/da_nominal.pdf', bbox_inches='tight')"
   ]
  },
  {
   "cell_type": "code",
   "execution_count": null,
   "metadata": {},
   "outputs": [],
   "source": []
  }
 ],
 "metadata": {
  "kernelspec": {
   "display_name": "Python 2",
   "language": "python",
   "name": "python2"
  },
  "language_info": {
   "codemirror_mode": {
    "name": "ipython",
    "version": 2
   },
   "file_extension": ".py",
   "mimetype": "text/x-python",
   "name": "python",
   "nbconvert_exporter": "python",
   "pygments_lexer": "ipython2",
   "version": "2.7.16"
  }
 },
 "nbformat": 4,
 "nbformat_minor": 2
}
