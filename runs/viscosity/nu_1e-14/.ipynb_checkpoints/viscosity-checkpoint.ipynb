{
 "cells": [
  {
   "cell_type": "code",
   "execution_count": 1,
   "metadata": {},
   "outputs": [],
   "source": [
    "#libration.ipynb\n",
    "#by Joe Hahn, jmh.datasciences@gmail.com, 15 April 2018.\n",
    "#plot librating ringlet"
   ]
  },
  {
   "cell_type": "code",
   "execution_count": 2,
   "metadata": {},
   "outputs": [
    {
     "ename": "IOError",
     "evalue": "[Errno 2] No such file or directory: 'output/r.npy'",
     "output_type": "error",
     "traceback": [
      "\u001b[0;31m---------------------------------------------------------------------------\u001b[0m",
      "\u001b[0;31mIOError\u001b[0m                                   Traceback (most recent call last)",
      "\u001b[0;32m<ipython-input-2-1211640f50ad>\u001b[0m in \u001b[0;36m<module>\u001b[0;34m()\u001b[0m\n\u001b[1;32m      2\u001b[0m \u001b[0;32mfrom\u001b[0m \u001b[0mhelper_fns\u001b[0m \u001b[0;32mimport\u001b[0m \u001b[0;34m*\u001b[0m\u001b[0;34m\u001b[0m\u001b[0m\n\u001b[1;32m      3\u001b[0m \u001b[0mexecfile\u001b[0m\u001b[0;34m(\u001b[0m\u001b[0;34m'inputs.py'\u001b[0m\u001b[0;34m)\u001b[0m\u001b[0;34m\u001b[0m\u001b[0m\n\u001b[0;32m----> 4\u001b[0;31m \u001b[0mr\u001b[0m\u001b[0;34m,\u001b[0m \u001b[0mt\u001b[0m\u001b[0;34m,\u001b[0m \u001b[0mvr\u001b[0m\u001b[0;34m,\u001b[0m \u001b[0mvt\u001b[0m\u001b[0;34m,\u001b[0m \u001b[0mtimes\u001b[0m\u001b[0;34m,\u001b[0m \u001b[0mlambda0\u001b[0m \u001b[0;34m=\u001b[0m \u001b[0mrestore_output\u001b[0m\u001b[0;34m(\u001b[0m\u001b[0moutput_folder\u001b[0m\u001b[0;34m)\u001b[0m\u001b[0;34m\u001b[0m\u001b[0m\n\u001b[0m\u001b[1;32m      5\u001b[0m \u001b[0ma\u001b[0m\u001b[0;34m,\u001b[0m \u001b[0me\u001b[0m\u001b[0;34m,\u001b[0m \u001b[0mwt\u001b[0m\u001b[0;34m,\u001b[0m \u001b[0mM\u001b[0m \u001b[0;34m=\u001b[0m \u001b[0mcoords2elem\u001b[0m\u001b[0;34m(\u001b[0m\u001b[0mJ2\u001b[0m\u001b[0;34m,\u001b[0m \u001b[0mRp\u001b[0m\u001b[0;34m,\u001b[0m \u001b[0mr\u001b[0m\u001b[0;34m,\u001b[0m \u001b[0mt\u001b[0m\u001b[0;34m,\u001b[0m \u001b[0mvr\u001b[0m\u001b[0;34m,\u001b[0m \u001b[0mvt\u001b[0m\u001b[0;34m)\u001b[0m\u001b[0;34m\u001b[0m\u001b[0m\n\u001b[1;32m      6\u001b[0m \u001b[0;32mprint\u001b[0m \u001b[0;34m'r.shape = '\u001b[0m\u001b[0;34m,\u001b[0m \u001b[0mr\u001b[0m\u001b[0;34m.\u001b[0m\u001b[0mshape\u001b[0m\u001b[0;34m\u001b[0m\u001b[0m\n",
      "\u001b[0;32m/Users/joe/Dropbox/datascience/projects/epi_int_lite/runs/viscosity/nu_3e-14/helper_fns.py\u001b[0m in \u001b[0;36mrestore_output\u001b[0;34m(output_folder)\u001b[0m\n\u001b[1;32m    251\u001b[0m \u001b[0;31m#restore orbit elements from files\u001b[0m\u001b[0;34m\u001b[0m\u001b[0;34m\u001b[0m\u001b[0m\n\u001b[1;32m    252\u001b[0m \u001b[0;32mdef\u001b[0m \u001b[0mrestore_output\u001b[0m\u001b[0;34m(\u001b[0m\u001b[0moutput_folder\u001b[0m\u001b[0;34m)\u001b[0m\u001b[0;34m:\u001b[0m\u001b[0;34m\u001b[0m\u001b[0m\n\u001b[0;32m--> 253\u001b[0;31m     \u001b[0mr\u001b[0m \u001b[0;34m=\u001b[0m \u001b[0mnp\u001b[0m\u001b[0;34m.\u001b[0m\u001b[0mload\u001b[0m\u001b[0;34m(\u001b[0m\u001b[0moutput_folder\u001b[0m \u001b[0;34m+\u001b[0m \u001b[0;34m'/r.npy'\u001b[0m\u001b[0;34m)\u001b[0m\u001b[0;34m\u001b[0m\u001b[0m\n\u001b[0m\u001b[1;32m    254\u001b[0m     \u001b[0mt\u001b[0m \u001b[0;34m=\u001b[0m \u001b[0mnp\u001b[0m\u001b[0;34m.\u001b[0m\u001b[0mload\u001b[0m\u001b[0;34m(\u001b[0m\u001b[0moutput_folder\u001b[0m \u001b[0;34m+\u001b[0m \u001b[0;34m'/t.npy'\u001b[0m\u001b[0;34m)\u001b[0m\u001b[0;34m\u001b[0m\u001b[0m\n\u001b[1;32m    255\u001b[0m     \u001b[0mvr\u001b[0m \u001b[0;34m=\u001b[0m \u001b[0mnp\u001b[0m\u001b[0;34m.\u001b[0m\u001b[0mload\u001b[0m\u001b[0;34m(\u001b[0m\u001b[0moutput_folder\u001b[0m \u001b[0;34m+\u001b[0m \u001b[0;34m'/vr.npy'\u001b[0m\u001b[0;34m)\u001b[0m\u001b[0;34m\u001b[0m\u001b[0m\n",
      "\u001b[0;32m/Users/joe/miniconda2/lib/python2.7/site-packages/numpy/lib/npyio.pyc\u001b[0m in \u001b[0;36mload\u001b[0;34m(file, mmap_mode, allow_pickle, fix_imports, encoding)\u001b[0m\n\u001b[1;32m    382\u001b[0m     \u001b[0mown_fid\u001b[0m \u001b[0;34m=\u001b[0m \u001b[0mFalse\u001b[0m\u001b[0;34m\u001b[0m\u001b[0m\n\u001b[1;32m    383\u001b[0m     \u001b[0;32mif\u001b[0m \u001b[0misinstance\u001b[0m\u001b[0;34m(\u001b[0m\u001b[0mfile\u001b[0m\u001b[0;34m,\u001b[0m \u001b[0mbasestring\u001b[0m\u001b[0;34m)\u001b[0m\u001b[0;34m:\u001b[0m\u001b[0;34m\u001b[0m\u001b[0m\n\u001b[0;32m--> 384\u001b[0;31m         \u001b[0mfid\u001b[0m \u001b[0;34m=\u001b[0m \u001b[0mopen\u001b[0m\u001b[0;34m(\u001b[0m\u001b[0mfile\u001b[0m\u001b[0;34m,\u001b[0m \u001b[0;34m\"rb\"\u001b[0m\u001b[0;34m)\u001b[0m\u001b[0;34m\u001b[0m\u001b[0m\n\u001b[0m\u001b[1;32m    385\u001b[0m         \u001b[0mown_fid\u001b[0m \u001b[0;34m=\u001b[0m \u001b[0mTrue\u001b[0m\u001b[0;34m\u001b[0m\u001b[0m\n\u001b[1;32m    386\u001b[0m     \u001b[0;32melif\u001b[0m \u001b[0mis_pathlib_path\u001b[0m\u001b[0;34m(\u001b[0m\u001b[0mfile\u001b[0m\u001b[0;34m)\u001b[0m\u001b[0;34m:\u001b[0m\u001b[0;34m\u001b[0m\u001b[0m\n",
      "\u001b[0;31mIOError\u001b[0m: [Errno 2] No such file or directory: 'output/r.npy'"
     ]
    }
   ],
   "source": [
    "#restore output\n",
    "from helper_fns import *\n",
    "execfile('inputs.py')\n",
    "r, t, vr, vt, times, lambda0 = restore_output(output_folder)\n",
    "a, e, wt, M = coords2elem(J2, Rp, r, t, vr, vt)\n",
    "print 'r.shape = ', r.shape\n",
    "print 'total_ring_mass = ', total_ring_mass\n",
    "print 'shear_viscosity = ', shear_viscosity\n",
    "print 'initial_orbits = ', initial_orbits\n",
    "print 'e.min() = ', e.min()\n",
    "print 'e.max() = ', e.max()"
   ]
  },
  {
   "cell_type": "code",
   "execution_count": null,
   "metadata": {},
   "outputs": [],
   "source": [
    "#prep plots\n",
    "%matplotlib inline\n",
    "import seaborn as sns\n",
    "import matplotlib.pyplot as plt\n",
    "from matplotlib import rcParams\n",
    "sns.set(font_scale=1.5, font='DejaVu Sans')\n",
    "import numpy as np"
   ]
  },
  {
   "cell_type": "code",
   "execution_count": null,
   "metadata": {},
   "outputs": [],
   "source": [
    "#compute delta_a=a_outer-a_inner versus time\n",
    "a_outer = a[:, number_of_streamlines-1, :].mean(axis=1)\n",
    "a_inner = a[:, 0, :].mean(axis=1)\n",
    "a_avg = (a_inner + a_outer)/2\n",
    "delta_a = a_outer - a_inner"
   ]
  },
  {
   "cell_type": "code",
   "execution_count": null,
   "metadata": {
    "scrolled": false
   },
   "outputs": [],
   "source": [
    "#plot streamline's mutual a-evolution\n",
    "twopi = 2*np.pi\n",
    "f, ax = plt.subplots(figsize=(10, 6))\n",
    "x = times/(2*np.pi)/1.0e5\n",
    "y = a_inner - a_avg\n",
    "p = ax.plot(x, y, linestyle='-', linewidth=1, alpha=1, label='outer')\n",
    "y = a_avg - a_avg\n",
    "p = ax.plot(x, y, linestyle='-', linewidth=1, alpha=1, label='middle')\n",
    "y = a_outer - a_avg\n",
    "p = ax.plot(x, y, linestyle='-', linewidth=1, alpha=1, label='inner')\n",
    "p = ax.set_xlabel(r'time t    ($10^5$ orbits)')\n",
    "p = ax.set_ylabel('a - a$_{avg}$')\n",
    "p = plt.legend(loc='center right')"
   ]
  },
  {
   "cell_type": "code",
   "execution_count": null,
   "metadata": {},
   "outputs": [],
   "source": [
    "#plot delta_a versus time\n",
    "x = times/(2*np.pi)/1.0e5\n",
    "y = delta_a\n",
    "f, ax = plt.subplots(figsize=(10, 6))\n",
    "p = ax.plot(x, y, linestyle='-', linewidth=2)\n",
    "p = ax.set_title(r'$\\Delta a$ versus time')\n",
    "p = ax.set_xlabel(r'time t    ($10^5$ orbits)')\n",
    "p = ax.set_ylabel(r'$\\Delta a$')\n",
    "p = plt.legend()\n",
    "p = plt.savefig('figs/da.png')"
   ]
  },
  {
   "cell_type": "code",
   "execution_count": null,
   "metadata": {},
   "outputs": [],
   "source": [
    "#plot a_avg versus time...note streamline's avg semimajor axis grows\n",
    "x = times/(2*np.pi)/1.0e5\n",
    "y = a_avg - a_avg[0]\n",
    "f, ax = plt.subplots(figsize=(10, 6))\n",
    "p = ax.plot(x, y, linestyle='-', linewidth=2)\n",
    "p = ax.set_title(r'$a - a_0$ versus time')\n",
    "p = ax.set_xlabel(r'time t    ($10^5$ orbits)')\n",
    "p = ax.set_ylabel(r'$a - a_0$')\n",
    "p = plt.legend()\n",
    "p = plt.savefig('figs/a_avg.png')"
   ]
  },
  {
   "cell_type": "code",
   "execution_count": null,
   "metadata": {},
   "outputs": [],
   "source": [
    "#plot d(a_avg)/dt versus time\n",
    "x = times/(2*np.pi)/1.0e5\n",
    "dt = times[1]-times[0]\n",
    "da_dt = np.gradient(a_avg, dt)\n",
    "y_factor = shear_viscosity/a_avg[0]\n",
    "y = da_dt/y_factor\n",
    "f, ax = plt.subplots(figsize=(10, 6))\n",
    "p = ax.plot(x, y, linestyle='-', linewidth=2, label='simulation')\n",
    "y_exp = -(15/2.0)*shear_viscosity/a_avg/y_factor + 0*times\n",
    "p = ax.plot(x, y_exp, linestyle='dashed', linewidth=2, color='orange',\n",
    "    label=r'$-15\\nu/2a$')\n",
    "p = ax.set_title(r'$da/dt$ versus time')\n",
    "p = ax.set_xlabel(r'time t    ($10^5$ orbits)')\n",
    "p = ax.set_ylabel(r'$da/dt$    ($\\nu/a$)')\n",
    "p = plt.legend()\n",
    "p = plt.savefig('figs/da_dt.png')"
   ]
  },
  {
   "cell_type": "code",
   "execution_count": null,
   "metadata": {},
   "outputs": [],
   "source": [
    "#compute delta_e=e_outer-e_inner and e_prime = a_mid*delta_e/delta_a versus time\n",
    "e_outer = e[:, number_of_streamlines-1, :].mean(axis=1)\n",
    "e_inner = e[:, 0, :].mean(axis=1)\n",
    "e_avg = (e_inner + e_outer)/2\n",
    "delta_e = e_outer - e_inner\n",
    "e_prime = a_avg*delta_e/delta_a"
   ]
  },
  {
   "cell_type": "code",
   "execution_count": null,
   "metadata": {},
   "outputs": [],
   "source": [
    "#plot streamline's e-evolution\n",
    "twopi = 2*np.pi\n",
    "f, ax = plt.subplots(figsize=(10, 6))\n",
    "x = times/(2*np.pi)/1.0e5\n",
    "y = e_outer\n",
    "p = ax.plot(x, y, linestyle='-', linewidth=2, alpha=0.8, label='outer')\n",
    "y = e_avg\n",
    "p = ax.plot(x, y, linestyle='-', linewidth=2, alpha=0.8, label='avg e')\n",
    "y = e_inner\n",
    "p = ax.plot(x, y, linestyle='-', linewidth=2, alpha=0.8, label='inner')\n",
    "p = ax.set_xlabel(r'time t    ($10^5$ orbits)')\n",
    "p = ax.set_ylabel('eccentricity e')\n",
    "p = plt.legend()"
   ]
  },
  {
   "cell_type": "code",
   "execution_count": null,
   "metadata": {},
   "outputs": [],
   "source": [
    "#plot d(e_avg)/dt versus time\n",
    "x = times/(2*np.pi)/1.0e5\n",
    "dt = times[1]-times[0]\n",
    "de_dt = np.gradient(e_avg, dt)\n",
    "y_factor = 1.0e-9\n",
    "y = de_dt/y_factor\n",
    "f, ax = plt.subplots(figsize=(10, 6))\n",
    "p = ax.plot(x, y, linestyle='-', linewidth=2)\n",
    "p = ax.set_title(r'$de/dt$ versus time')\n",
    "p = ax.set_xlabel(r'time t    ($10^5$ orbits)')\n",
    "p = ax.set_ylabel(r'$de/dt/10^{-9}$')\n",
    "p = plt.legend()\n",
    "p = plt.savefig('figs/de_dt.png')"
   ]
  },
  {
   "cell_type": "code",
   "execution_count": null,
   "metadata": {},
   "outputs": [],
   "source": [
    "#compute delta_w=wt_outer-wt_inner and wt_prime = a_mid*e_mid*delta_wt/delta_a \n",
    "#and q=sqrt(e_prime^2 + wt_prime^2) versus time\n",
    "delta_wt_list = []\n",
    "for t_idx in range(len(times)):\n",
    "    s_idx = 0\n",
    "    r0 = r[t_idx, s_idx]\n",
    "    theta_idx = np.argmin(r0)\n",
    "    wt_inner = wt[t_idx, s_idx, theta_idx]\n",
    "    s_idx = 1\n",
    "    r0 = r[t_idx, s_idx]\n",
    "    theta_idx = np.argmin(r0)\n",
    "    wt_outer = wt[t_idx, s_idx, theta_idx]\n",
    "    delta_wt_list += [wt_outer - wt_inner]\n",
    "delta_wt = adjust_angle(np.array(delta_wt_list))\n",
    "wt_prime = a_avg*e_avg*delta_wt/delta_a\n",
    "q = np.sqrt(e_prime**2 + wt_prime**2)"
   ]
  },
  {
   "cell_type": "code",
   "execution_count": null,
   "metadata": {},
   "outputs": [],
   "source": [
    "#plot delta_e and delta_wt versus time\n",
    "f, ax = plt.subplots(figsize=(10, 6))\n",
    "x = times/(2*np.pi)/1.0e5\n",
    "y = delta_wt\n",
    "p = ax.plot(x, y, linestyle='-', linewidth=1, label=r'$\\Delta\\tilde{\\omega}$')\n",
    "y = delta_e\n",
    "p = ax.plot(x, y, linestyle='-', linewidth=2, label=r'$\\Delta e$')\n",
    "p = ax.set_title(r'$\\Delta e$ and $\\Delta\\tilde{\\omega}$ versus time')\n",
    "p = ax.set_xlabel(r'time t    ($10^5$ orbits)')\n",
    "p = ax.set_ylabel(r'$\\Delta e$ and $\\Delta\\tilde{\\omega}$')\n",
    "p = plt.legend()"
   ]
  },
  {
   "cell_type": "code",
   "execution_count": null,
   "metadata": {},
   "outputs": [],
   "source": [
    "#plot e_prime wt_prime and q versus time\n",
    "x = times/(2*np.pi)/1.0e5\n",
    "y = e_prime\n",
    "f, ax = plt.subplots(figsize=(10, 6))\n",
    "p = ax.plot(x, y, linestyle='dashed', linewidth=2, label=\"e'\")\n",
    "y = wt_prime\n",
    "p = ax.plot(x, y, linestyle='-', linewidth=2, label=r\"$\\omega'$\")\n",
    "y = q\n",
    "p = ax.plot(x, y, linestyle='-', linewidth=4, label=r'$q$', alpha=0.5)\n",
    "p = ax.plot(x, x*0 + np.sqrt(3.0)/2.0, linestyle='dotted', linewidth=2, label=r\"$\\sqrt{3}/2$\")\n",
    "p = ax.set_title(r\"$e'=a(de/da)$ versus time\")\n",
    "p = ax.set_xlabel(r'time t    ($10^5$ orbits)')\n",
    "p = ax.set_ylabel(r\"$e'$\")\n",
    "p = ax.set_ylim(-0.1, 1)\n",
    "p = plt.legend()\n",
    "p = plt.savefig('figs/adeda.png')"
   ]
  },
  {
   "cell_type": "code",
   "execution_count": null,
   "metadata": {},
   "outputs": [],
   "source": [
    "#plot e_prime versus delta_a\n",
    "x = delta_a\n",
    "y = e_prime\n",
    "f, ax = plt.subplots(figsize=(10, 6))\n",
    "p = ax.plot(x, y, linestyle='dashed', linewidth=2, label=\"e'\")\n",
    "p = ax.plot(x, x*0 + np.sqrt(3.0)/2.0, linestyle='dotted', linewidth=2, label=r\"$\\sqrt{3}/2$\")\n",
    "p = ax.set_title(r\"$e'=a(de/da)$ versus $\\Delta a$\")\n",
    "p = ax.set_xlabel(r'$\\Delta a$')\n",
    "p = ax.set_ylabel(r\"$e'$\")\n",
    "p = ax.set_ylim(-0.1, 1)\n",
    "p = plt.legend()\n",
    "#p = plt.savefig('figs/adeda.png')"
   ]
  },
  {
   "cell_type": "code",
   "execution_count": null,
   "metadata": {},
   "outputs": [],
   "source": [
    "#plot wt_prime versus delta_a\n",
    "x = delta_a\n",
    "y = wt_prime\n",
    "f, ax = plt.subplots(figsize=(10, 6))\n",
    "p = ax.plot(x, y, linestyle='-', alpha=0.5, linewidth=1)\n",
    "colors = plt.rcParams['axes.prop_cycle'].by_key()['color']\n",
    "p = ax.plot(x, y, linestyle='none', marker='.', markersize=3, color=colors[0])\n",
    "p = ax.set_title(r\"$\\Delta\\tilde{\\omega}$ versus $\\Delta a$\")\n",
    "p = ax.set_xlabel(r'$\\Delta a$')\n",
    "p = ax.set_ylabel(r'$\\Delta\\tilde{\\omega}$    (rad)')\n",
    "#p = ax.set_ylim(-0.1, 1)\n",
    "p = plt.legend()\n",
    "#p = plt.savefig('figs/adeda.png')"
   ]
  },
  {
   "cell_type": "code",
   "execution_count": null,
   "metadata": {},
   "outputs": [],
   "source": [
    "#plot e_prime vs wt_prime\n",
    "x = wt_prime\n",
    "y = e_prime\n",
    "f, ax = plt.subplots(figsize=(10, 6))\n",
    "p = ax.plot(x, y, linestyle='-', alpha=0.5, linewidth=1, label=\"e'\")\n",
    "colors = plt.rcParams['axes.prop_cycle'].by_key()['color']\n",
    "p = ax.plot(x, y, linestyle='none', marker='.', markersize=3, color=colors[0])\n",
    "p = ax.plot(x, x*0 + np.sqrt(3.0)/2.0, linestyle='dotted', linewidth=2, label=r\"$\\sqrt{3}/2$\")\n",
    "p = ax.set_title(r\"$e'$ versus $\\Delta\\tilde{\\omega}$\")\n",
    "p = ax.set_xlabel(r'$\\Delta\\tilde{\\omega}$    (rad)')\n",
    "p = ax.set_ylabel(r\"$e'$\")\n",
    "p = plt.legend()"
   ]
  },
  {
   "cell_type": "code",
   "execution_count": null,
   "metadata": {},
   "outputs": [],
   "source": [
    "#plot delta_wt versus time\n",
    "x = times/(2*np.pi)/1.0e5\n",
    "y = delta_wt\n",
    "f, ax = plt.subplots(figsize=(10, 6))\n",
    "p = ax.plot(x, y, linestyle='-', linewidth=1)\n",
    "p = ax.set_title(r'$\\Delta\\tilde{\\omega}$ versus time')\n",
    "p = ax.set_xlabel(r'time t    ($10^5$ orbits)')\n",
    "p = ax.set_ylabel(r'$\\Delta\\tilde{\\omega}$    (rad)')\n",
    "p = plt.legend()"
   ]
  },
  {
   "cell_type": "code",
   "execution_count": null,
   "metadata": {},
   "outputs": [],
   "source": [
    "#viscous angular momentum flux & angular momentum luminosity vs time\n",
    "c = -1.0\n",
    "G = -1.0\n",
    "twopi = 2*np.pi\n",
    "inner_torque_list = []\n",
    "outer_torque_list = []\n",
    "viscous_flux_list = []\n",
    "for t_idx in range(len(times)):\n",
    "    Ar, At = accelerations(lambda0, G_ring, shear_viscosity, c, r[t_idx], t[t_idx], vt[t_idx])\n",
    "    viscous_flux = lambda0*r[t_idx]*At\n",
    "    torque_per_particle = viscous_flux*(twopi*r[t_idx]/particles_per_streamline)\n",
    "    viscous_flux_list += [viscous_flux]\n",
    "    inner_torque_list += [torque_per_particle[0].sum()]\n",
    "    outer_torque_list += [torque_per_particle[1].sum()]\n",
    "inner_torque = np.array(inner_torque_list)\n",
    "outer_torque = np.array(outer_torque_list)\n",
    "viscous_flux = np.array(viscous_flux_list)"
   ]
  },
  {
   "cell_type": "code",
   "execution_count": null,
   "metadata": {},
   "outputs": [],
   "source": [
    "#viscous angular momentum flux & luminosity assuming circular ring at time=0\n",
    "a0 = a_avg[0]\n",
    "area = twopi*a0*delta_a[0]\n",
    "sd0 = total_ring_mass/area\n",
    "w0 = Omega(J2, Rp, a0)\n",
    "viscous_flux0 = 1.5*shear_viscosity*sd0*a0*w0\n",
    "viscous_luminosity0 = viscous_flux0*twopi*a0\n",
    "print 'circular flux, luminosity = ', viscous_flux0, viscous_luminosity0, outer_torque[0]"
   ]
  },
  {
   "cell_type": "code",
   "execution_count": null,
   "metadata": {},
   "outputs": [],
   "source": [
    "#plot torques versus time...off by X2 at time=0???\n",
    "f, ax = plt.subplots(figsize=(10, 6))\n",
    "x = times/(2*np.pi)/1.0e5\n",
    "y = outer_torque/viscous_luminosity0\n",
    "p = ax.plot(x, y, linestyle='-', linewidth=3, label='outer', alpha=0.5)\n",
    "y = -inner_torque/viscous_luminosity0\n",
    "p = ax.plot(x, y, linestyle='-', linewidth=1, label=r'$-1\\times$ inner')\n",
    "p = ax.set_title(r'streamline torque versus time')\n",
    "p = ax.set_xlabel(r'time t    ($10^5$ orbits)')\n",
    "p = ax.set_ylabel(r'torque    $T/T_{circular}$')\n",
    "p = plt.legend()"
   ]
  },
  {
   "cell_type": "code",
   "execution_count": null,
   "metadata": {},
   "outputs": [],
   "source": [
    "#viscous flux vs longitude...factor of X2 problem???\n",
    "f, ax = plt.subplots(figsize=(10, 6))\n",
    "t_idxs = (np.array([0.0, 0.005, 0.02, 0.1, 0.18, 0.23, 0.35, 0.45, 0.8])*total_number_of_outputs)\\\n",
    "    .astype(int)\n",
    "for t_idx in t_idxs:\n",
    "    viscous_flux_outer = viscous_flux[t_idx][1]\n",
    "    r_outer = r[t_idx][1]\n",
    "    t_outer = t[t_idx][1]\n",
    "    wt_outer = wt[t_idx][1]\n",
    "    pidx = r_outer.argmin()\n",
    "    wt_outer_min = wt_outer[pidx]\n",
    "    t_rotating = adjust_angle(t_outer - wt_outer_min)\n",
    "    y = viscous_flux_outer/viscous_flux0\n",
    "    x = t_rotating/np.pi\n",
    "    idx = np.argsort(t_rotating)\n",
    "    x = x[idx]\n",
    "    y = y[idx]\n",
    "    N_orbits = times[t_idx]/twopi/1.0e5\n",
    "    lbl = r't = ' + str(N_orbits)[0:4] + r'$\\times10^5$ orbits'\n",
    "    p = ax.plot(x, y, linestyle='-', linewidth=2, label=lbl)\n",
    "p = ax.set_title(r'viscous angular momentum flux vs longitude')\n",
    "p = ax.set_xlabel(r'relative longitude $(\\theta - \\tilde{\\omega})/\\pi$')\n",
    "p = ax.set_ylabel(r'viscous angular momentum flux $F/F_0$')\n",
    "p = plt.legend(loc='center right')"
   ]
  },
  {
   "cell_type": "code",
   "execution_count": null,
   "metadata": {},
   "outputs": [],
   "source": []
  }
 ],
 "metadata": {
  "kernelspec": {
   "display_name": "Python 2",
   "language": "python",
   "name": "python2"
  },
  "language_info": {
   "codemirror_mode": {
    "name": "ipython",
    "version": 2
   },
   "file_extension": ".py",
   "mimetype": "text/x-python",
   "name": "python",
   "nbconvert_exporter": "python",
   "pygments_lexer": "ipython2",
   "version": "2.7.13"
  }
 },
 "nbformat": 4,
 "nbformat_minor": 2
}
